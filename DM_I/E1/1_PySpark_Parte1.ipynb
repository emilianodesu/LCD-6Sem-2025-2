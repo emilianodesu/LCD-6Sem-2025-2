{
  "cells": [
    {
      "cell_type": "markdown",
      "metadata": {
        "application/vnd.databricks.v1+cell": {
          "inputWidgets": {},
          "nuid": "3a4d38b0-d0b0-4726-9651-30f9ab3488ac",
          "showTitle": false,
          "title": ""
        },
        "id": "VjtDZ-p2p4dx"
      },
      "source": [
        "# Objetivo\n",
        "\n",
        "El objetivo de esta libreta es explorar el procesamiento y análisis de los datos con PySpark, así como explorar los RDDs y dataframes."
      ]
    },
    {
      "cell_type": "markdown",
      "metadata": {
        "application/vnd.databricks.v1+cell": {
          "inputWidgets": {},
          "nuid": "f0f3f847-5cfd-4fd2-afa3-7e6f0b94de26",
          "showTitle": false,
          "title": ""
        },
        "id": "hyWDa3yDp4dz"
      },
      "source": [
        "Para realizar los ejemplos de este notebook haremos uso de una base de datos que cuenta con información de los jugadores del juego [FIFA20](https://www.kaggle.com/stefanoleone992/fifa-20-complete-player-dataset?select=players_20.csv), estos datos fueron tomados del sitio de kaggle donde podrán encontrar una descripción detallada de cada uno de los campos."
      ]
    },
    {
      "cell_type": "markdown",
      "metadata": {
        "application/vnd.databricks.v1+cell": {
          "inputWidgets": {},
          "nuid": "a95c5d79-19ca-4c3d-8057-c65cca52727c",
          "showTitle": false,
          "title": ""
        },
        "id": "YDEze6yWp4d0"
      },
      "source": [
        "## ¿Qué es PySpark?\n",
        "PySpark es una herramienta que nos deja usar Spark encima de Python. Permitiendonos combinar el proceso de datos distribuidos de Spark con la simplicidad de Python para el análisis de conjuntos masivos de datos (big data)."
      ]
    },
    {
      "cell_type": "code",
      "execution_count": 142,
      "metadata": {
        "colab": {
          "base_uri": "https://localhost:8080/"
        },
        "id": "0dwnsTK9p9W6",
        "outputId": "2cb0830b-05df-420b-9201-2066eacb34d7"
      },
      "outputs": [
        {
          "name": "stdout",
          "output_type": "stream",
          "text": [
            "Requirement already satisfied: pyspark in /usr/local/lib/python3.11/dist-packages (3.5.4)\n",
            "Requirement already satisfied: py4j==0.10.9.7 in /usr/local/lib/python3.11/dist-packages (from pyspark) (0.10.9.7)\n"
          ]
        }
      ],
      "source": [
        "# !pip install pyspark"
      ]
    },
    {
      "cell_type": "code",
      "execution_count": 143,
      "metadata": {
        "application/vnd.databricks.v1+cell": {
          "inputWidgets": {},
          "nuid": "76515400-8009-490e-8c3e-0038c8a72534",
          "showTitle": false,
          "title": ""
        },
        "id": "Sp7r7v7mp4d0"
      },
      "outputs": [],
      "source": [
        "#Carga de la biblioteca\n",
        "import pyspark\n",
        "# Carga funciones extra\n",
        "from pyspark.sql.functions import *\n",
        "from pyspark.sql import SparkSession\n",
        "spark = SparkSession.builder.appName('primeros_pasos').getOrCreate()"
      ]
    },
    {
      "cell_type": "markdown",
      "metadata": {
        "application/vnd.databricks.v1+cell": {
          "inputWidgets": {},
          "nuid": "f5555f6c-1288-42c7-ba37-66e21bac87c6",
          "showTitle": false,
          "title": ""
        },
        "id": "bHltg68Wp4d1"
      },
      "source": [
        "### Operaciones con RDDs\n",
        "\n",
        "La forma más sencilla de trabajar con PySpark es usando RDDs (Resilient Distributed Dataset).\n",
        "\n",
        "Los RDDs son una colección de datos, con las características que son tolerantes a fallos y pueden trabajar de manera paralela."
      ]
    },
    {
      "cell_type": "code",
      "execution_count": 144,
      "metadata": {
        "application/vnd.databricks.v1+cell": {
          "inputWidgets": {},
          "nuid": "bf2f3da2-5e60-46eb-b117-2d96852736ab",
          "showTitle": false,
          "title": ""
        },
        "id": "VwPQszbxp4d1"
      },
      "outputs": [],
      "source": [
        "#Carga de los datos\n",
        "#Mi primer RDD (cargamos los datos de un CSV hacia un RDD)\n",
        "datos_crudos = spark.sparkContext.textFile('players_20.csv')"
      ]
    },
    {
      "cell_type": "code",
      "execution_count": 145,
      "metadata": {
        "application/vnd.databricks.v1+cell": {
          "inputWidgets": {},
          "nuid": "91dbe76f-4f3f-4650-94ec-d33d46e16154",
          "showTitle": false,
          "title": ""
        },
        "colab": {
          "base_uri": "https://localhost:8080/"
        },
        "id": "CjdTFNErp4d2",
        "outputId": "ff2c457e-0bce-417e-c011-b9abd921bc56"
      },
      "outputs": [
        {
          "data": {
            "text/plain": [
              "players_20.csv MapPartitionsRDD[350] at textFile at NativeMethodAccessorImpl.java:0"
            ]
          },
          "execution_count": 145,
          "metadata": {},
          "output_type": "execute_result"
        }
      ],
      "source": [
        "datos_crudos"
      ]
    },
    {
      "cell_type": "code",
      "execution_count": 146,
      "metadata": {
        "application/vnd.databricks.v1+cell": {
          "inputWidgets": {},
          "nuid": "4a3254c0-f32a-4bd6-a748-24890ede2669",
          "showTitle": false,
          "title": ""
        },
        "colab": {
          "base_uri": "https://localhost:8080/"
        },
        "id": "cZwE5ScSp4d2",
        "outputId": "7aa42c5f-78ff-4498-f5ae-9745620d692c"
      },
      "outputs": [
        {
          "name": "stdout",
          "output_type": "stream",
          "text": [
            "sofifa_id,player_url,short_name,long_name,age,dob,height_cm,weight_kg,nationality,club,overall,potential,value_eur,wage_eur,player_positions,preferred_foot,international_reputation,weak_foot,skill_moves,work_rate,body_type,real_face,release_clause_eur,player_tags,team_position,team_jersey_number,loaned_from,joined,contract_valid_until,nation_position,nation_jersey_number,pace,shooting,passing,dribbling,defending,physic,gk_diving,gk_handling,gk_kicking,gk_reflexes,gk_speed,gk_positioning,player_traits,attacking_crossing,attacking_finishing,attacking_heading_accuracy,attacking_short_passing,attacking_volleys,skill_dribbling,skill_curve,skill_fk_accuracy,skill_long_passing,skill_ball_control,movement_acceleration,movement_sprint_speed,movement_agility,movement_reactions,movement_balance,power_shot_power,power_jumping,power_stamina,power_strength,power_long_shots,mentality_aggression,mentality_interceptions,mentality_positioning,mentality_vision,mentality_penalties,mentality_composure,defending_marking,defending_standing_tackle,defending_sliding_tackle,goalkeeping_diving,goalkeeping_handling,goalkeeping_kicking,goalkeeping_positioning,goalkeeping_reflexes,ls,st,rs,lw,lf,cf,rf,rw,lam,cam,ram,lm,lcm,cm,rcm,rm,lwb,ldm,cdm,rdm,rwb,lb,lcb,cb,rcb,rb\n",
            "158023,https://sofifa.com/player/158023/lionel-messi/20/159586,L. Messi,Lionel Andrés Messi Cuccittini,32,1987-06-24,170,72,Argentina,FC Barcelona,94,94,95500000,565000,\"RW, CF, ST\",Left,5,4,4,Medium/Low,Messi,Yes,195800000,\"#Dribbler, #Distance Shooter, #Crosser, #FK Specialist, #Acrobat, #Clinical Finisher, #Complete Forward\",RW,10,,2004-07-01,2021,,,87,92,92,96,39,66,,,,,,,\"Beat Offside Trap, Argues with Officials, Early Crosser, Finesse Shot, Speed Dribbler (CPU AI Only), 1-on-1 Rush, Giant Throw-in, Outside Foot Shot\",88,95,70,92,88,97,93,94,92,96,91,84,93,95,95,86,68,75,68,94,48,40,94,94,75,96,33,37,26,6,11,15,14,8,89+2,89+2,89+2,93+2,93+2,93+2,93+2,93+2,93+2,93+2,93+2,92+2,87+2,87+2,87+2,92+2,68+2,66+2,66+2,66+2,68+2,63+2,52+2,52+2,52+2,63+2\n"
          ]
        }
      ],
      "source": [
        "for renglon in datos_crudos.take(2):\n",
        "  print(renglon)"
      ]
    },
    {
      "cell_type": "markdown",
      "metadata": {
        "application/vnd.databricks.v1+cell": {
          "inputWidgets": {},
          "nuid": "83f3d996-bb01-431d-b1e3-c90b767bc4c8",
          "showTitle": false,
          "title": ""
        },
        "id": "vuHv2dmap4d2"
      },
      "source": [
        "Una de las desventajas de los RDDs es que solo proveen a los datos de la estructura minima para poder trabajar con ellos. Como podemos ver, los elementos del RDD son solo los renglones del archivo CSV sin formato."
      ]
    },
    {
      "cell_type": "code",
      "execution_count": 147,
      "metadata": {
        "application/vnd.databricks.v1+cell": {
          "inputWidgets": {},
          "nuid": "f1c311a9-31e5-4bc0-bfdd-2008801160f9",
          "showTitle": false,
          "title": ""
        },
        "id": "LVpWIzVgp4d3"
      },
      "outputs": [],
      "source": [
        "# Guarda el primer elemento\n",
        "columnas = datos_crudos.take(1)[0]\n",
        "# Guarda en todos los elementos de datos_crudos menos el primero correspondiente a las columnas\n",
        "datos_crudos = datos_crudos.filter(lambda renglon : renglon != columnas)"
      ]
    },
    {
      "cell_type": "code",
      "execution_count": 148,
      "metadata": {
        "application/vnd.databricks.v1+cell": {
          "inputWidgets": {},
          "nuid": "7bab7e2f-7cd5-44c3-b836-8bae92fcd5bc",
          "showTitle": false,
          "title": ""
        },
        "colab": {
          "base_uri": "https://localhost:8080/"
        },
        "id": "VOrHw3XJp4d3",
        "outputId": "6c7a0b1c-8ba3-4e6a-f19b-9e8aef558fcb"
      },
      "outputs": [
        {
          "data": {
            "text/plain": [
              "PythonRDD[353] at RDD at PythonRDD.scala:53"
            ]
          },
          "execution_count": 148,
          "metadata": {},
          "output_type": "execute_result"
        }
      ],
      "source": [
        "datos_crudos"
      ]
    },
    {
      "cell_type": "markdown",
      "metadata": {
        "application/vnd.databricks.v1+cell": {
          "inputWidgets": {},
          "nuid": "9fb7ef5c-e1cc-471d-b0d2-165333685dae",
          "showTitle": false,
          "title": ""
        },
        "id": "HXYnfLdMp4d3"
      },
      "source": [
        "Ahora podemos darle un poco más de estructura a nuestros datos. Primero separemos los campos de cada renglon, sabiendo que estan separados por comas, y quedandonos con solo un subconjunto de dichos campos, digamos... su nombre, edad, estatura, peso, nacionalidad, equipo y su ranking. Para esto definamos la siguiente función:"
      ]
    },
    {
      "cell_type": "code",
      "execution_count": 149,
      "metadata": {
        "application/vnd.databricks.v1+cell": {
          "inputWidgets": {},
          "nuid": "3fb60ddf-bcfd-46b5-8b22-6cc5cfd883fd",
          "showTitle": false,
          "title": ""
        },
        "id": "F-c4_RHFp4d4"
      },
      "outputs": [],
      "source": [
        "def separar_campos(renglon):\n",
        "    renglon_separado = renglon.split(',')\n",
        "    # Extrae los campos que queremos\n",
        "    nombre = str(renglon_separado[2])\n",
        "    edad = int(renglon_separado[4])\n",
        "    estatura = int(renglon_separado[6])\n",
        "    peso = int(renglon_separado[7])\n",
        "    nacionalidad = str(renglon_separado[8])\n",
        "    equipo = str(renglon_separado[9])\n",
        "    rank = int(renglon_separado[10])\n",
        "    return (nombre, edad, estatura, peso, nacionalidad, equipo, rank)"
      ]
    },
    {
      "cell_type": "code",
      "execution_count": 150,
      "metadata": {
        "application/vnd.databricks.v1+cell": {
          "inputWidgets": {},
          "nuid": "45513b27-fe54-4321-b14c-a0f87d85090e",
          "showTitle": false,
          "title": ""
        },
        "colab": {
          "base_uri": "https://localhost:8080/"
        },
        "id": "bmXuhtOmp4d4",
        "outputId": "d20886c1-7273-4431-a9d1-62c6eebfb7d2"
      },
      "outputs": [
        {
          "name": "stdout",
          "output_type": "stream",
          "text": [
            "('L. Messi', 32, 170, 72, 'Argentina', 'FC Barcelona', 94)\n",
            "('Cristiano Ronaldo', 34, 187, 83, 'Portugal', 'Juventus', 93)\n",
            "('Neymar Jr', 27, 175, 68, 'Brazil', 'Paris Saint-Germain', 92)\n",
            "('J. Oblak', 26, 188, 87, 'Slovenia', 'Atlético Madrid', 91)\n",
            "('E. Hazard', 28, 175, 74, 'Belgium', 'Real Madrid', 91)\n"
          ]
        }
      ],
      "source": [
        "#aplicamos la función a los datos\n",
        "\n",
        "rdd_fifa = datos_crudos.map(separar_campos)\n",
        "# Imprimimos una muestra de los datos\n",
        "for renglon in rdd_fifa.take(5):\n",
        "  print(renglon)"
      ]
    },
    {
      "cell_type": "markdown",
      "metadata": {
        "application/vnd.databricks.v1+cell": {
          "inputWidgets": {},
          "nuid": "770c4a52-7a70-47e3-b7d9-d9a4d555de34",
          "showTitle": false,
          "title": ""
        },
        "id": "vSwOUEu6p4d5"
      },
      "source": [
        "Existen dos operaciones básicas que pueden ser aplicadas a los RDD:\n",
        "\n",
        "- Acciones: Son operaciones que accionan la realización de cálculos y regresan valores explícitos del RDD. Ejemplo: take()\n",
        "\n",
        "- Transformaciones: Son operaciones que devuelven otro RDD. Este tipo de operaciones no se ejecutan como tal sino hasta que es llamada una acción. Por esta razón se dice que las transformaciones son de evaluacion peresoza (lazy evaluation). Ejemplos: map(), reduceByKey()\n",
        "\n",
        "En el caso de la celda anterior, map() es una transformación que aplica la función dada a los elementos del RDD y take() es la acción que nos devuelve los  primeros elementos."
      ]
    },
    {
      "cell_type": "markdown",
      "metadata": {
        "application/vnd.databricks.v1+cell": {
          "inputWidgets": {},
          "nuid": "d437459f-96b5-43db-a096-a1c0ecbb9577",
          "showTitle": false,
          "title": ""
        },
        "id": "s3SDZgfvp4d5"
      },
      "source": [
        "##### Ejemplo 1: ¿Cuántos jugadores existen por país?\n",
        "\n",
        "Para lograr esto primero necesitamos convertir nuestros datos en pares (key, value), donde la key será el pais y el value nos indicará que ese registro pertenece a un jugador de dicho país."
      ]
    },
    {
      "cell_type": "code",
      "execution_count": 151,
      "metadata": {
        "application/vnd.databricks.v1+cell": {
          "inputWidgets": {},
          "nuid": "2617af8b-9015-456b-8119-973a82d8b7f4",
          "showTitle": false,
          "title": ""
        },
        "id": "uNNVYwUcp4d5"
      },
      "outputs": [],
      "source": [
        "# Nos quedamos solo con la entrada corresponiente al país\n",
        "rdd_nacionalidades = rdd_fifa.map(lambda renglon: (renglon[4], 1))"
      ]
    },
    {
      "cell_type": "code",
      "execution_count": 152,
      "metadata": {
        "application/vnd.databricks.v1+cell": {
          "inputWidgets": {},
          "nuid": "69f0408f-55be-42b6-9ca8-cdbd78af946e",
          "showTitle": false,
          "title": ""
        },
        "colab": {
          "base_uri": "https://localhost:8080/"
        },
        "id": "3BWmRiEGp4d6",
        "outputId": "5d406ad0-f394-433b-a437-6d2d48cb80b0"
      },
      "outputs": [
        {
          "name": "stdout",
          "output_type": "stream",
          "text": [
            "('Argentina', 1)\n",
            "('Portugal', 1)\n",
            "('Brazil', 1)\n",
            "('Slovenia', 1)\n",
            "('Belgium', 1)\n"
          ]
        }
      ],
      "source": [
        "for i in rdd_nacionalidades.take(5):\n",
        "    print(i)"
      ]
    },
    {
      "cell_type": "code",
      "execution_count": 153,
      "metadata": {
        "application/vnd.databricks.v1+cell": {
          "inputWidgets": {},
          "nuid": "3699e300-4bf9-4529-8aec-56c7004c9ab3",
          "showTitle": false,
          "title": ""
        },
        "id": "kmChqSgRp4d6"
      },
      "outputs": [],
      "source": [
        "#Usando los países como llaves y la transformación llamada reduceByKey, sumaremos todos los valores para cada país.\n",
        "rdd_nacionalidades = rdd_nacionalidades.reduceByKey(lambda val_1 , val_2: val_1 + val_2)"
      ]
    },
    {
      "cell_type": "code",
      "execution_count": 154,
      "metadata": {
        "application/vnd.databricks.v1+cell": {
          "inputWidgets": {},
          "nuid": "e89ccdf6-7496-411a-95ef-999c71bb5d65",
          "showTitle": false,
          "title": ""
        },
        "colab": {
          "base_uri": "https://localhost:8080/"
        },
        "id": "xw_z95STp4d6",
        "outputId": "d91b0f64-a27c-4d34-e356-c4bc07d23676"
      },
      "outputs": [
        {
          "name": "stdout",
          "output_type": "stream",
          "text": [
            "('Germany', 1216)\n",
            "('Egypt', 30)\n",
            "('France', 984)\n",
            "('Italy', 732)\n",
            "('Gabon', 16)\n",
            "('Costa Rica', 30)\n",
            "('Slovakia', 54)\n",
            "('Bosnia Herzegovina', 66)\n",
            "('Serbia', 139)\n",
            "('Scotland', 277)\n"
          ]
        }
      ],
      "source": [
        "#Para visualizar los resultados, usaremos la acción collect(). Esta acción devuelve todo el contenido del RDD.\n",
        "\n",
        "resultados = rdd_nacionalidades.collect()\n",
        "\n",
        "for renglon in resultados[:10]:\n",
        "  print(renglon)"
      ]
    },
    {
      "cell_type": "code",
      "execution_count": 155,
      "metadata": {
        "application/vnd.databricks.v1+cell": {
          "inputWidgets": {},
          "nuid": "95929d77-a9ee-4079-aead-896f6e6fcef5",
          "showTitle": false,
          "title": ""
        },
        "id": "RNry8D11p4d7"
      },
      "outputs": [],
      "source": [
        "#Importante: Esta acción debe usarse con cuidado, en casos donde el RDD contenga una gran cantidad de registros, cargar todo el contenido del RDD puede dejar al sistema sin memoria."
      ]
    },
    {
      "cell_type": "markdown",
      "metadata": {
        "application/vnd.databricks.v1+cell": {
          "inputWidgets": {},
          "nuid": "84ed84eb-93e5-4356-ab6d-1234e6d5621c",
          "showTitle": false,
          "title": ""
        },
        "id": "nPGOJQBZp4d7"
      },
      "source": [
        "##### Ejemplo 2: Ordenar a los paises por la cantidad de jugadores.\n",
        "\n",
        "En la siguiente celda imprimimos los 10 países con más jugadores registrados en el juego de FIFA20"
      ]
    },
    {
      "cell_type": "code",
      "execution_count": 156,
      "metadata": {
        "application/vnd.databricks.v1+cell": {
          "inputWidgets": {},
          "nuid": "ea2f2edf-f213-4232-9034-c0c2ae5f0800",
          "showTitle": false,
          "title": ""
        },
        "colab": {
          "base_uri": "https://localhost:8080/"
        },
        "id": "43uHNwvRp4d7",
        "outputId": "efcb53e0-3f4d-462c-ce34-d1cb8e5b193e"
      },
      "outputs": [
        {
          "name": "stdout",
          "output_type": "stream",
          "text": [
            "('England', 1667)\n",
            "('Germany', 1216)\n",
            "('Spain', 1035)\n",
            "('France', 984)\n",
            "('Argentina', 886)\n"
          ]
        }
      ],
      "source": [
        "# Pedimos que ordene por total de jugadores\n",
        "rdd_nacionalidades = rdd_nacionalidades.sortBy(lambda renglon: renglon[1], ascending = False)\n",
        "\n",
        "for renglon in rdd_nacionalidades.take(5):\n",
        "  print(renglon)"
      ]
    },
    {
      "cell_type": "markdown",
      "metadata": {
        "application/vnd.databricks.v1+cell": {
          "inputWidgets": {},
          "nuid": "5f5ff69d-3d20-4713-8581-20ab5141083b",
          "showTitle": false,
          "title": ""
        },
        "id": "14A4WLdNp4d7"
      },
      "source": [
        "Aunque los RDDs nos proveen de la capacidad de manipular y hacer calculos con datos distribuidos, éstos carecen de las funcionalidades y la estructura que tienen herramientas de un poco más alto nivel, como los DataFrame de Pandas, para el manejo de datos.\n",
        "\n",
        "En PySpark existe un tipo de objetos, igual llamados DataFrames, los cuales nos ayudan a dotar a nuestros datos con más funcionalidades y estructura, en comparación a los RDDs, al mismo tiempo que seguir trabajando de forma distribuida con ellos."
      ]
    },
    {
      "cell_type": "markdown",
      "metadata": {
        "application/vnd.databricks.v1+cell": {
          "inputWidgets": {},
          "nuid": "6cff7de1-884a-4bd6-ae86-8c32e3af8a85",
          "showTitle": false,
          "title": ""
        },
        "id": "Oj8johnnp4d8"
      },
      "source": [
        "## Operaciones sobre DataFrames\n",
        "\n",
        "A diferencia de los RDDs, los DataFrames nos permiten estructurar a una collección de datos distribuidos en forma de tabla (con columnas y filas)."
      ]
    },
    {
      "cell_type": "code",
      "execution_count": 157,
      "metadata": {
        "application/vnd.databricks.v1+cell": {
          "inputWidgets": {},
          "nuid": "33e7b1f4-44fe-4e91-828a-ce5994d75abc",
          "showTitle": false,
          "title": ""
        },
        "id": "3RV1ytKnp4d8"
      },
      "outputs": [],
      "source": [
        "#Mi primer Dataframe en PySpark\n",
        "df_fifa = spark.read.csv('players_20.csv', header = True, inferSchema = True)"
      ]
    },
    {
      "cell_type": "code",
      "execution_count": 158,
      "metadata": {
        "application/vnd.databricks.v1+cell": {
          "inputWidgets": {},
          "nuid": "4610416c-5581-4391-9485-231c2e0b4fcc",
          "showTitle": false,
          "title": ""
        },
        "colab": {
          "base_uri": "https://localhost:8080/"
        },
        "id": "pg2C9SFpp4d8",
        "outputId": "42966ce9-ec87-4188-830c-78b59776c5cf"
      },
      "outputs": [
        {
          "data": {
            "text/plain": [
              "DataFrame[sofifa_id: int, player_url: string, short_name: string, long_name: string, age: int, dob: date, height_cm: int, weight_kg: int, nationality: string, club: string, overall: int, potential: int, value_eur: int, wage_eur: int, player_positions: string, preferred_foot: string, international_reputation: int, weak_foot: int, skill_moves: int, work_rate: string, body_type: string, real_face: string, release_clause_eur: int, player_tags: string, team_position: string, team_jersey_number: int, loaned_from: string, joined: date, contract_valid_until: int, nation_position: string, nation_jersey_number: int, pace: int, shooting: int, passing: int, dribbling: int, defending: int, physic: int, gk_diving: int, gk_handling: int, gk_kicking: int, gk_reflexes: int, gk_speed: int, gk_positioning: int, player_traits: string, attacking_crossing: int, attacking_finishing: int, attacking_heading_accuracy: int, attacking_short_passing: int, attacking_volleys: int, skill_dribbling: int, skill_curve: int, skill_fk_accuracy: int, skill_long_passing: int, skill_ball_control: int, movement_acceleration: int, movement_sprint_speed: int, movement_agility: int, movement_reactions: int, movement_balance: int, power_shot_power: int, power_jumping: int, power_stamina: int, power_strength: int, power_long_shots: int, mentality_aggression: int, mentality_interceptions: int, mentality_positioning: int, mentality_vision: int, mentality_penalties: int, mentality_composure: int, defending_marking: int, defending_standing_tackle: int, defending_sliding_tackle: int, goalkeeping_diving: int, goalkeeping_handling: int, goalkeeping_kicking: int, goalkeeping_positioning: int, goalkeeping_reflexes: int, ls: string, st: string, rs: string, lw: string, lf: string, cf: string, rf: string, rw: string, lam: string, cam: string, ram: string, lm: string, lcm: string, cm: string, rcm: string, rm: string, lwb: string, ldm: string, cdm: string, rdm: string, rwb: string, lb: string, lcb: string, cb: string, rcb: string, rb: string]"
            ]
          },
          "execution_count": 158,
          "metadata": {},
          "output_type": "execute_result"
        }
      ],
      "source": [
        "df_fifa"
      ]
    },
    {
      "cell_type": "code",
      "execution_count": 159,
      "metadata": {
        "application/vnd.databricks.v1+cell": {
          "inputWidgets": {},
          "nuid": "ec81e849-e7c3-4e9b-a82e-173a2fe7a109",
          "showTitle": false,
          "title": ""
        },
        "id": "B0WYOUiGp4d8"
      },
      "outputs": [],
      "source": [
        "#Semejante a pandas, podemos seleccionar un conjunto de columnas\n",
        "df_fifa = df_fifa.select('short_name','age', 'height_cm', 'weight_kg', 'nationality', 'club', 'value_eur', 'preferred_foot')\n",
        "\n",
        "# dada la estructrua que el DataFrame da a los datos, podemos hacer referencia a las columnas por su nombre en el archivo CSV."
      ]
    },
    {
      "cell_type": "markdown",
      "metadata": {
        "application/vnd.databricks.v1+cell": {
          "inputWidgets": {},
          "nuid": "bee9ad2e-0c25-4cfb-8969-41bb515da320",
          "showTitle": false,
          "title": ""
        },
        "id": "6qJ67W6Xp4d9"
      },
      "source": [
        "### Visualizando datos"
      ]
    },
    {
      "cell_type": "code",
      "execution_count": 160,
      "metadata": {
        "application/vnd.databricks.v1+cell": {
          "inputWidgets": {},
          "nuid": "3667c02a-0f25-4e5b-bf70-0ccbd160d9a7",
          "showTitle": false,
          "title": ""
        },
        "colab": {
          "base_uri": "https://localhost:8080/"
        },
        "id": "j6Xk_vZep4d9",
        "outputId": "19135f2b-3a92-493c-c75c-c6bdf750bff6"
      },
      "outputs": [
        {
          "name": "stdout",
          "output_type": "stream",
          "text": [
            "+-----------------+---+---------+---------+-----------+-------------------+---------+--------------+\n",
            "|       short_name|age|height_cm|weight_kg|nationality|               club|value_eur|preferred_foot|\n",
            "+-----------------+---+---------+---------+-----------+-------------------+---------+--------------+\n",
            "|         L. Messi| 32|      170|       72|  Argentina|       FC Barcelona| 95500000|          Left|\n",
            "|Cristiano Ronaldo| 34|      187|       83|   Portugal|           Juventus| 58500000|         Right|\n",
            "|        Neymar Jr| 27|      175|       68|     Brazil|Paris Saint-Germain|105500000|         Right|\n",
            "|         J. Oblak| 26|      188|       87|   Slovenia|    Atlético Madrid| 77500000|         Right|\n",
            "|        E. Hazard| 28|      175|       74|    Belgium|        Real Madrid| 90000000|         Right|\n",
            "+-----------------+---+---------+---------+-----------+-------------------+---------+--------------+\n",
            "only showing top 5 rows\n",
            "\n"
          ]
        }
      ],
      "source": [
        "df_fifa.show(5)"
      ]
    },
    {
      "cell_type": "code",
      "execution_count": 161,
      "metadata": {
        "application/vnd.databricks.v1+cell": {
          "inputWidgets": {},
          "nuid": "dcbbecd3-cf81-41b9-8214-cac344f773c8",
          "showTitle": false,
          "title": ""
        },
        "colab": {
          "base_uri": "https://localhost:8080/",
          "height": 363
        },
        "id": "96vGQDTKp4d9",
        "outputId": "73b9515f-ac16-4972-c77a-c66d3db76f24"
      },
      "outputs": [
        {
          "data": {
            "application/vnd.google.colaboratory.intrinsic+json": {
              "summary": "{\n  \"name\": \"df_pandas\",\n  \"rows\": 10,\n  \"fields\": [\n    {\n      \"column\": \"short_name\",\n      \"properties\": {\n        \"dtype\": \"string\",\n        \"num_unique_values\": 10,\n        \"samples\": [\n          \"L. Modri\\u0107\",\n          \"Cristiano Ronaldo\",\n          \"K. De Bruyne\"\n        ],\n        \"semantic_type\": \"\",\n        \"description\": \"\"\n      }\n    },\n    {\n      \"column\": \"age\",\n      \"properties\": {\n        \"dtype\": \"int32\",\n        \"num_unique_values\": 6,\n        \"samples\": [\n          32,\n          34,\n          33\n        ],\n        \"semantic_type\": \"\",\n        \"description\": \"\"\n      }\n    },\n    {\n      \"column\": \"height_cm\",\n      \"properties\": {\n        \"dtype\": \"int32\",\n        \"num_unique_values\": 7,\n        \"samples\": [\n          170,\n          187,\n          193\n        ],\n        \"semantic_type\": \"\",\n        \"description\": \"\"\n      }\n    },\n    {\n      \"column\": \"weight_kg\",\n      \"properties\": {\n        \"dtype\": \"int32\",\n        \"num_unique_values\": 10,\n        \"samples\": [\n          66,\n          83,\n          70\n        ],\n        \"semantic_type\": \"\",\n        \"description\": \"\"\n      }\n    },\n    {\n      \"column\": \"nationality\",\n      \"properties\": {\n        \"dtype\": \"string\",\n        \"num_unique_values\": 9,\n        \"samples\": [\n          \"Croatia\",\n          \"Portugal\",\n          \"Germany\"\n        ],\n        \"semantic_type\": \"\",\n        \"description\": \"\"\n      }\n    },\n    {\n      \"column\": \"club\",\n      \"properties\": {\n        \"dtype\": \"string\",\n        \"num_unique_values\": 7,\n        \"samples\": [\n          \"FC Barcelona\",\n          \"Juventus\",\n          \"Manchester City\"\n        ],\n        \"semantic_type\": \"\",\n        \"description\": \"\"\n      }\n    },\n    {\n      \"column\": \"value_eur\",\n      \"properties\": {\n        \"dtype\": \"int32\",\n        \"num_unique_values\": 9,\n        \"samples\": [\n          45000000,\n          58500000,\n          67500000\n        ],\n        \"semantic_type\": \"\",\n        \"description\": \"\"\n      }\n    },\n    {\n      \"column\": \"preferred_foot\",\n      \"properties\": {\n        \"dtype\": \"category\",\n        \"num_unique_values\": 2,\n        \"samples\": [\n          \"Right\",\n          \"Left\"\n        ],\n        \"semantic_type\": \"\",\n        \"description\": \"\"\n      }\n    }\n  ]\n}",
              "type": "dataframe",
              "variable_name": "df_pandas"
            },
            "text/html": [
              "\n",
              "  <div id=\"df-3c88185a-78ac-479c-ab9f-85e62e8d4943\" class=\"colab-df-container\">\n",
              "    <div>\n",
              "<style scoped>\n",
              "    .dataframe tbody tr th:only-of-type {\n",
              "        vertical-align: middle;\n",
              "    }\n",
              "\n",
              "    .dataframe tbody tr th {\n",
              "        vertical-align: top;\n",
              "    }\n",
              "\n",
              "    .dataframe thead th {\n",
              "        text-align: right;\n",
              "    }\n",
              "</style>\n",
              "<table border=\"1\" class=\"dataframe\">\n",
              "  <thead>\n",
              "    <tr style=\"text-align: right;\">\n",
              "      <th></th>\n",
              "      <th>short_name</th>\n",
              "      <th>age</th>\n",
              "      <th>height_cm</th>\n",
              "      <th>weight_kg</th>\n",
              "      <th>nationality</th>\n",
              "      <th>club</th>\n",
              "      <th>value_eur</th>\n",
              "      <th>preferred_foot</th>\n",
              "    </tr>\n",
              "  </thead>\n",
              "  <tbody>\n",
              "    <tr>\n",
              "      <th>0</th>\n",
              "      <td>L. Messi</td>\n",
              "      <td>32</td>\n",
              "      <td>170</td>\n",
              "      <td>72</td>\n",
              "      <td>Argentina</td>\n",
              "      <td>FC Barcelona</td>\n",
              "      <td>95500000</td>\n",
              "      <td>Left</td>\n",
              "    </tr>\n",
              "    <tr>\n",
              "      <th>1</th>\n",
              "      <td>Cristiano Ronaldo</td>\n",
              "      <td>34</td>\n",
              "      <td>187</td>\n",
              "      <td>83</td>\n",
              "      <td>Portugal</td>\n",
              "      <td>Juventus</td>\n",
              "      <td>58500000</td>\n",
              "      <td>Right</td>\n",
              "    </tr>\n",
              "    <tr>\n",
              "      <th>2</th>\n",
              "      <td>Neymar Jr</td>\n",
              "      <td>27</td>\n",
              "      <td>175</td>\n",
              "      <td>68</td>\n",
              "      <td>Brazil</td>\n",
              "      <td>Paris Saint-Germain</td>\n",
              "      <td>105500000</td>\n",
              "      <td>Right</td>\n",
              "    </tr>\n",
              "    <tr>\n",
              "      <th>3</th>\n",
              "      <td>J. Oblak</td>\n",
              "      <td>26</td>\n",
              "      <td>188</td>\n",
              "      <td>87</td>\n",
              "      <td>Slovenia</td>\n",
              "      <td>Atlético Madrid</td>\n",
              "      <td>77500000</td>\n",
              "      <td>Right</td>\n",
              "    </tr>\n",
              "    <tr>\n",
              "      <th>4</th>\n",
              "      <td>E. Hazard</td>\n",
              "      <td>28</td>\n",
              "      <td>175</td>\n",
              "      <td>74</td>\n",
              "      <td>Belgium</td>\n",
              "      <td>Real Madrid</td>\n",
              "      <td>90000000</td>\n",
              "      <td>Right</td>\n",
              "    </tr>\n",
              "    <tr>\n",
              "      <th>5</th>\n",
              "      <td>K. De Bruyne</td>\n",
              "      <td>28</td>\n",
              "      <td>181</td>\n",
              "      <td>70</td>\n",
              "      <td>Belgium</td>\n",
              "      <td>Manchester City</td>\n",
              "      <td>90000000</td>\n",
              "      <td>Right</td>\n",
              "    </tr>\n",
              "    <tr>\n",
              "      <th>6</th>\n",
              "      <td>M. ter Stegen</td>\n",
              "      <td>27</td>\n",
              "      <td>187</td>\n",
              "      <td>85</td>\n",
              "      <td>Germany</td>\n",
              "      <td>FC Barcelona</td>\n",
              "      <td>67500000</td>\n",
              "      <td>Right</td>\n",
              "    </tr>\n",
              "    <tr>\n",
              "      <th>7</th>\n",
              "      <td>V. van Dijk</td>\n",
              "      <td>27</td>\n",
              "      <td>193</td>\n",
              "      <td>92</td>\n",
              "      <td>Netherlands</td>\n",
              "      <td>Liverpool</td>\n",
              "      <td>78000000</td>\n",
              "      <td>Right</td>\n",
              "    </tr>\n",
              "    <tr>\n",
              "      <th>8</th>\n",
              "      <td>L. Modrić</td>\n",
              "      <td>33</td>\n",
              "      <td>172</td>\n",
              "      <td>66</td>\n",
              "      <td>Croatia</td>\n",
              "      <td>Real Madrid</td>\n",
              "      <td>45000000</td>\n",
              "      <td>Right</td>\n",
              "    </tr>\n",
              "    <tr>\n",
              "      <th>9</th>\n",
              "      <td>M. Salah</td>\n",
              "      <td>27</td>\n",
              "      <td>175</td>\n",
              "      <td>71</td>\n",
              "      <td>Egypt</td>\n",
              "      <td>Liverpool</td>\n",
              "      <td>80500000</td>\n",
              "      <td>Left</td>\n",
              "    </tr>\n",
              "  </tbody>\n",
              "</table>\n",
              "</div>\n",
              "    <div class=\"colab-df-buttons\">\n",
              "\n",
              "  <div class=\"colab-df-container\">\n",
              "    <button class=\"colab-df-convert\" onclick=\"convertToInteractive('df-3c88185a-78ac-479c-ab9f-85e62e8d4943')\"\n",
              "            title=\"Convert this dataframe to an interactive table.\"\n",
              "            style=\"display:none;\">\n",
              "\n",
              "  <svg xmlns=\"http://www.w3.org/2000/svg\" height=\"24px\" viewBox=\"0 -960 960 960\">\n",
              "    <path d=\"M120-120v-720h720v720H120Zm60-500h600v-160H180v160Zm220 220h160v-160H400v160Zm0 220h160v-160H400v160ZM180-400h160v-160H180v160Zm440 0h160v-160H620v160ZM180-180h160v-160H180v160Zm440 0h160v-160H620v160Z\"/>\n",
              "  </svg>\n",
              "    </button>\n",
              "\n",
              "  <style>\n",
              "    .colab-df-container {\n",
              "      display:flex;\n",
              "      gap: 12px;\n",
              "    }\n",
              "\n",
              "    .colab-df-convert {\n",
              "      background-color: #E8F0FE;\n",
              "      border: none;\n",
              "      border-radius: 50%;\n",
              "      cursor: pointer;\n",
              "      display: none;\n",
              "      fill: #1967D2;\n",
              "      height: 32px;\n",
              "      padding: 0 0 0 0;\n",
              "      width: 32px;\n",
              "    }\n",
              "\n",
              "    .colab-df-convert:hover {\n",
              "      background-color: #E2EBFA;\n",
              "      box-shadow: 0px 1px 2px rgba(60, 64, 67, 0.3), 0px 1px 3px 1px rgba(60, 64, 67, 0.15);\n",
              "      fill: #174EA6;\n",
              "    }\n",
              "\n",
              "    .colab-df-buttons div {\n",
              "      margin-bottom: 4px;\n",
              "    }\n",
              "\n",
              "    [theme=dark] .colab-df-convert {\n",
              "      background-color: #3B4455;\n",
              "      fill: #D2E3FC;\n",
              "    }\n",
              "\n",
              "    [theme=dark] .colab-df-convert:hover {\n",
              "      background-color: #434B5C;\n",
              "      box-shadow: 0px 1px 3px 1px rgba(0, 0, 0, 0.15);\n",
              "      filter: drop-shadow(0px 1px 2px rgba(0, 0, 0, 0.3));\n",
              "      fill: #FFFFFF;\n",
              "    }\n",
              "  </style>\n",
              "\n",
              "    <script>\n",
              "      const buttonEl =\n",
              "        document.querySelector('#df-3c88185a-78ac-479c-ab9f-85e62e8d4943 button.colab-df-convert');\n",
              "      buttonEl.style.display =\n",
              "        google.colab.kernel.accessAllowed ? 'block' : 'none';\n",
              "\n",
              "      async function convertToInteractive(key) {\n",
              "        const element = document.querySelector('#df-3c88185a-78ac-479c-ab9f-85e62e8d4943');\n",
              "        const dataTable =\n",
              "          await google.colab.kernel.invokeFunction('convertToInteractive',\n",
              "                                                    [key], {});\n",
              "        if (!dataTable) return;\n",
              "\n",
              "        const docLinkHtml = 'Like what you see? Visit the ' +\n",
              "          '<a target=\"_blank\" href=https://colab.research.google.com/notebooks/data_table.ipynb>data table notebook</a>'\n",
              "          + ' to learn more about interactive tables.';\n",
              "        element.innerHTML = '';\n",
              "        dataTable['output_type'] = 'display_data';\n",
              "        await google.colab.output.renderOutput(dataTable, element);\n",
              "        const docLink = document.createElement('div');\n",
              "        docLink.innerHTML = docLinkHtml;\n",
              "        element.appendChild(docLink);\n",
              "      }\n",
              "    </script>\n",
              "  </div>\n",
              "\n",
              "\n",
              "<div id=\"df-0d831cdb-b380-404e-91fe-a31a05fa31c5\">\n",
              "  <button class=\"colab-df-quickchart\" onclick=\"quickchart('df-0d831cdb-b380-404e-91fe-a31a05fa31c5')\"\n",
              "            title=\"Suggest charts\"\n",
              "            style=\"display:none;\">\n",
              "\n",
              "<svg xmlns=\"http://www.w3.org/2000/svg\" height=\"24px\"viewBox=\"0 0 24 24\"\n",
              "     width=\"24px\">\n",
              "    <g>\n",
              "        <path d=\"M19 3H5c-1.1 0-2 .9-2 2v14c0 1.1.9 2 2 2h14c1.1 0 2-.9 2-2V5c0-1.1-.9-2-2-2zM9 17H7v-7h2v7zm4 0h-2V7h2v10zm4 0h-2v-4h2v4z\"/>\n",
              "    </g>\n",
              "</svg>\n",
              "  </button>\n",
              "\n",
              "<style>\n",
              "  .colab-df-quickchart {\n",
              "      --bg-color: #E8F0FE;\n",
              "      --fill-color: #1967D2;\n",
              "      --hover-bg-color: #E2EBFA;\n",
              "      --hover-fill-color: #174EA6;\n",
              "      --disabled-fill-color: #AAA;\n",
              "      --disabled-bg-color: #DDD;\n",
              "  }\n",
              "\n",
              "  [theme=dark] .colab-df-quickchart {\n",
              "      --bg-color: #3B4455;\n",
              "      --fill-color: #D2E3FC;\n",
              "      --hover-bg-color: #434B5C;\n",
              "      --hover-fill-color: #FFFFFF;\n",
              "      --disabled-bg-color: #3B4455;\n",
              "      --disabled-fill-color: #666;\n",
              "  }\n",
              "\n",
              "  .colab-df-quickchart {\n",
              "    background-color: var(--bg-color);\n",
              "    border: none;\n",
              "    border-radius: 50%;\n",
              "    cursor: pointer;\n",
              "    display: none;\n",
              "    fill: var(--fill-color);\n",
              "    height: 32px;\n",
              "    padding: 0;\n",
              "    width: 32px;\n",
              "  }\n",
              "\n",
              "  .colab-df-quickchart:hover {\n",
              "    background-color: var(--hover-bg-color);\n",
              "    box-shadow: 0 1px 2px rgba(60, 64, 67, 0.3), 0 1px 3px 1px rgba(60, 64, 67, 0.15);\n",
              "    fill: var(--button-hover-fill-color);\n",
              "  }\n",
              "\n",
              "  .colab-df-quickchart-complete:disabled,\n",
              "  .colab-df-quickchart-complete:disabled:hover {\n",
              "    background-color: var(--disabled-bg-color);\n",
              "    fill: var(--disabled-fill-color);\n",
              "    box-shadow: none;\n",
              "  }\n",
              "\n",
              "  .colab-df-spinner {\n",
              "    border: 2px solid var(--fill-color);\n",
              "    border-color: transparent;\n",
              "    border-bottom-color: var(--fill-color);\n",
              "    animation:\n",
              "      spin 1s steps(1) infinite;\n",
              "  }\n",
              "\n",
              "  @keyframes spin {\n",
              "    0% {\n",
              "      border-color: transparent;\n",
              "      border-bottom-color: var(--fill-color);\n",
              "      border-left-color: var(--fill-color);\n",
              "    }\n",
              "    20% {\n",
              "      border-color: transparent;\n",
              "      border-left-color: var(--fill-color);\n",
              "      border-top-color: var(--fill-color);\n",
              "    }\n",
              "    30% {\n",
              "      border-color: transparent;\n",
              "      border-left-color: var(--fill-color);\n",
              "      border-top-color: var(--fill-color);\n",
              "      border-right-color: var(--fill-color);\n",
              "    }\n",
              "    40% {\n",
              "      border-color: transparent;\n",
              "      border-right-color: var(--fill-color);\n",
              "      border-top-color: var(--fill-color);\n",
              "    }\n",
              "    60% {\n",
              "      border-color: transparent;\n",
              "      border-right-color: var(--fill-color);\n",
              "    }\n",
              "    80% {\n",
              "      border-color: transparent;\n",
              "      border-right-color: var(--fill-color);\n",
              "      border-bottom-color: var(--fill-color);\n",
              "    }\n",
              "    90% {\n",
              "      border-color: transparent;\n",
              "      border-bottom-color: var(--fill-color);\n",
              "    }\n",
              "  }\n",
              "</style>\n",
              "\n",
              "  <script>\n",
              "    async function quickchart(key) {\n",
              "      const quickchartButtonEl =\n",
              "        document.querySelector('#' + key + ' button');\n",
              "      quickchartButtonEl.disabled = true;  // To prevent multiple clicks.\n",
              "      quickchartButtonEl.classList.add('colab-df-spinner');\n",
              "      try {\n",
              "        const charts = await google.colab.kernel.invokeFunction(\n",
              "            'suggestCharts', [key], {});\n",
              "      } catch (error) {\n",
              "        console.error('Error during call to suggestCharts:', error);\n",
              "      }\n",
              "      quickchartButtonEl.classList.remove('colab-df-spinner');\n",
              "      quickchartButtonEl.classList.add('colab-df-quickchart-complete');\n",
              "    }\n",
              "    (() => {\n",
              "      let quickchartButtonEl =\n",
              "        document.querySelector('#df-0d831cdb-b380-404e-91fe-a31a05fa31c5 button');\n",
              "      quickchartButtonEl.style.display =\n",
              "        google.colab.kernel.accessAllowed ? 'block' : 'none';\n",
              "    })();\n",
              "  </script>\n",
              "</div>\n",
              "\n",
              "  <div id=\"id_acaabfac-67cf-41b6-8cf2-fa81373270b8\">\n",
              "    <style>\n",
              "      .colab-df-generate {\n",
              "        background-color: #E8F0FE;\n",
              "        border: none;\n",
              "        border-radius: 50%;\n",
              "        cursor: pointer;\n",
              "        display: none;\n",
              "        fill: #1967D2;\n",
              "        height: 32px;\n",
              "        padding: 0 0 0 0;\n",
              "        width: 32px;\n",
              "      }\n",
              "\n",
              "      .colab-df-generate:hover {\n",
              "        background-color: #E2EBFA;\n",
              "        box-shadow: 0px 1px 2px rgba(60, 64, 67, 0.3), 0px 1px 3px 1px rgba(60, 64, 67, 0.15);\n",
              "        fill: #174EA6;\n",
              "      }\n",
              "\n",
              "      [theme=dark] .colab-df-generate {\n",
              "        background-color: #3B4455;\n",
              "        fill: #D2E3FC;\n",
              "      }\n",
              "\n",
              "      [theme=dark] .colab-df-generate:hover {\n",
              "        background-color: #434B5C;\n",
              "        box-shadow: 0px 1px 3px 1px rgba(0, 0, 0, 0.15);\n",
              "        filter: drop-shadow(0px 1px 2px rgba(0, 0, 0, 0.3));\n",
              "        fill: #FFFFFF;\n",
              "      }\n",
              "    </style>\n",
              "    <button class=\"colab-df-generate\" onclick=\"generateWithVariable('df_pandas')\"\n",
              "            title=\"Generate code using this dataframe.\"\n",
              "            style=\"display:none;\">\n",
              "\n",
              "  <svg xmlns=\"http://www.w3.org/2000/svg\" height=\"24px\"viewBox=\"0 0 24 24\"\n",
              "       width=\"24px\">\n",
              "    <path d=\"M7,19H8.4L18.45,9,17,7.55,7,17.6ZM5,21V16.75L18.45,3.32a2,2,0,0,1,2.83,0l1.4,1.43a1.91,1.91,0,0,1,.58,1.4,1.91,1.91,0,0,1-.58,1.4L9.25,21ZM18.45,9,17,7.55Zm-12,3A5.31,5.31,0,0,0,4.9,8.1,5.31,5.31,0,0,0,1,6.5,5.31,5.31,0,0,0,4.9,4.9,5.31,5.31,0,0,0,6.5,1,5.31,5.31,0,0,0,8.1,4.9,5.31,5.31,0,0,0,12,6.5,5.46,5.46,0,0,0,6.5,12Z\"/>\n",
              "  </svg>\n",
              "    </button>\n",
              "    <script>\n",
              "      (() => {\n",
              "      const buttonEl =\n",
              "        document.querySelector('#id_acaabfac-67cf-41b6-8cf2-fa81373270b8 button.colab-df-generate');\n",
              "      buttonEl.style.display =\n",
              "        google.colab.kernel.accessAllowed ? 'block' : 'none';\n",
              "\n",
              "      buttonEl.onclick = () => {\n",
              "        google.colab.notebook.generateWithVariable('df_pandas');\n",
              "      }\n",
              "      })();\n",
              "    </script>\n",
              "  </div>\n",
              "\n",
              "    </div>\n",
              "  </div>\n"
            ],
            "text/plain": [
              "          short_name  age  height_cm  weight_kg  nationality  \\\n",
              "0           L. Messi   32        170         72    Argentina   \n",
              "1  Cristiano Ronaldo   34        187         83     Portugal   \n",
              "2          Neymar Jr   27        175         68       Brazil   \n",
              "3           J. Oblak   26        188         87     Slovenia   \n",
              "4          E. Hazard   28        175         74      Belgium   \n",
              "5       K. De Bruyne   28        181         70      Belgium   \n",
              "6      M. ter Stegen   27        187         85      Germany   \n",
              "7        V. van Dijk   27        193         92  Netherlands   \n",
              "8          L. Modrić   33        172         66      Croatia   \n",
              "9           M. Salah   27        175         71        Egypt   \n",
              "\n",
              "                  club  value_eur preferred_foot  \n",
              "0         FC Barcelona   95500000           Left  \n",
              "1             Juventus   58500000          Right  \n",
              "2  Paris Saint-Germain  105500000          Right  \n",
              "3      Atlético Madrid   77500000          Right  \n",
              "4          Real Madrid   90000000          Right  \n",
              "5      Manchester City   90000000          Right  \n",
              "6         FC Barcelona   67500000          Right  \n",
              "7            Liverpool   78000000          Right  \n",
              "8          Real Madrid   45000000          Right  \n",
              "9            Liverpool   80500000           Left  "
            ]
          },
          "execution_count": 161,
          "metadata": {},
          "output_type": "execute_result"
        }
      ],
      "source": [
        "#Si el contenido del DataFrame es lo suficientemente pequeño podemos transformar su contenido a un DataFrame de Pandas.\n",
        "df_pequeño = df_fifa.limit(10)\n",
        "df_pandas = df_pequeño.toPandas()\n",
        "df_pandas"
      ]
    },
    {
      "cell_type": "code",
      "execution_count": 162,
      "metadata": {
        "application/vnd.databricks.v1+cell": {
          "inputWidgets": {},
          "nuid": "ed05f1ec-86bd-487f-8d48-c4470d15bea6",
          "showTitle": false,
          "title": ""
        },
        "colab": {
          "base_uri": "https://localhost:8080/",
          "height": 206
        },
        "id": "QkDQ19jWp4d-",
        "outputId": "08916a08-ad83-4af8-c7ef-cb43e6fc155e"
      },
      "outputs": [
        {
          "data": {
            "application/vnd.google.colaboratory.intrinsic+json": {
              "summary": "{\n  \"name\": \"df_pandas\",\n  \"rows\": 10,\n  \"fields\": [\n    {\n      \"column\": \"short_name\",\n      \"properties\": {\n        \"dtype\": \"string\",\n        \"num_unique_values\": 10,\n        \"samples\": [\n          \"L. Modri\\u0107\",\n          \"Cristiano Ronaldo\",\n          \"K. De Bruyne\"\n        ],\n        \"semantic_type\": \"\",\n        \"description\": \"\"\n      }\n    },\n    {\n      \"column\": \"age\",\n      \"properties\": {\n        \"dtype\": \"int32\",\n        \"num_unique_values\": 6,\n        \"samples\": [\n          32,\n          34,\n          33\n        ],\n        \"semantic_type\": \"\",\n        \"description\": \"\"\n      }\n    },\n    {\n      \"column\": \"height_cm\",\n      \"properties\": {\n        \"dtype\": \"int32\",\n        \"num_unique_values\": 7,\n        \"samples\": [\n          170,\n          187,\n          193\n        ],\n        \"semantic_type\": \"\",\n        \"description\": \"\"\n      }\n    },\n    {\n      \"column\": \"weight_kg\",\n      \"properties\": {\n        \"dtype\": \"int32\",\n        \"num_unique_values\": 10,\n        \"samples\": [\n          66,\n          83,\n          70\n        ],\n        \"semantic_type\": \"\",\n        \"description\": \"\"\n      }\n    },\n    {\n      \"column\": \"nationality\",\n      \"properties\": {\n        \"dtype\": \"string\",\n        \"num_unique_values\": 9,\n        \"samples\": [\n          \"Croatia\",\n          \"Portugal\",\n          \"Germany\"\n        ],\n        \"semantic_type\": \"\",\n        \"description\": \"\"\n      }\n    },\n    {\n      \"column\": \"club\",\n      \"properties\": {\n        \"dtype\": \"string\",\n        \"num_unique_values\": 7,\n        \"samples\": [\n          \"FC Barcelona\",\n          \"Juventus\",\n          \"Manchester City\"\n        ],\n        \"semantic_type\": \"\",\n        \"description\": \"\"\n      }\n    },\n    {\n      \"column\": \"value_eur\",\n      \"properties\": {\n        \"dtype\": \"int32\",\n        \"num_unique_values\": 9,\n        \"samples\": [\n          45000000,\n          58500000,\n          67500000\n        ],\n        \"semantic_type\": \"\",\n        \"description\": \"\"\n      }\n    },\n    {\n      \"column\": \"preferred_foot\",\n      \"properties\": {\n        \"dtype\": \"category\",\n        \"num_unique_values\": 2,\n        \"samples\": [\n          \"Right\",\n          \"Left\"\n        ],\n        \"semantic_type\": \"\",\n        \"description\": \"\"\n      }\n    }\n  ]\n}",
              "type": "dataframe",
              "variable_name": "df_pandas"
            },
            "text/html": [
              "\n",
              "  <div id=\"df-434469af-91a6-48c1-ba2b-918d81f45b59\" class=\"colab-df-container\">\n",
              "    <div>\n",
              "<style scoped>\n",
              "    .dataframe tbody tr th:only-of-type {\n",
              "        vertical-align: middle;\n",
              "    }\n",
              "\n",
              "    .dataframe tbody tr th {\n",
              "        vertical-align: top;\n",
              "    }\n",
              "\n",
              "    .dataframe thead th {\n",
              "        text-align: right;\n",
              "    }\n",
              "</style>\n",
              "<table border=\"1\" class=\"dataframe\">\n",
              "  <thead>\n",
              "    <tr style=\"text-align: right;\">\n",
              "      <th></th>\n",
              "      <th>short_name</th>\n",
              "      <th>age</th>\n",
              "      <th>height_cm</th>\n",
              "      <th>weight_kg</th>\n",
              "      <th>nationality</th>\n",
              "      <th>club</th>\n",
              "      <th>value_eur</th>\n",
              "      <th>preferred_foot</th>\n",
              "    </tr>\n",
              "  </thead>\n",
              "  <tbody>\n",
              "    <tr>\n",
              "      <th>0</th>\n",
              "      <td>L. Messi</td>\n",
              "      <td>32</td>\n",
              "      <td>170</td>\n",
              "      <td>72</td>\n",
              "      <td>Argentina</td>\n",
              "      <td>FC Barcelona</td>\n",
              "      <td>95500000</td>\n",
              "      <td>Left</td>\n",
              "    </tr>\n",
              "    <tr>\n",
              "      <th>1</th>\n",
              "      <td>Cristiano Ronaldo</td>\n",
              "      <td>34</td>\n",
              "      <td>187</td>\n",
              "      <td>83</td>\n",
              "      <td>Portugal</td>\n",
              "      <td>Juventus</td>\n",
              "      <td>58500000</td>\n",
              "      <td>Right</td>\n",
              "    </tr>\n",
              "    <tr>\n",
              "      <th>2</th>\n",
              "      <td>Neymar Jr</td>\n",
              "      <td>27</td>\n",
              "      <td>175</td>\n",
              "      <td>68</td>\n",
              "      <td>Brazil</td>\n",
              "      <td>Paris Saint-Germain</td>\n",
              "      <td>105500000</td>\n",
              "      <td>Right</td>\n",
              "    </tr>\n",
              "    <tr>\n",
              "      <th>3</th>\n",
              "      <td>J. Oblak</td>\n",
              "      <td>26</td>\n",
              "      <td>188</td>\n",
              "      <td>87</td>\n",
              "      <td>Slovenia</td>\n",
              "      <td>Atlético Madrid</td>\n",
              "      <td>77500000</td>\n",
              "      <td>Right</td>\n",
              "    </tr>\n",
              "    <tr>\n",
              "      <th>4</th>\n",
              "      <td>E. Hazard</td>\n",
              "      <td>28</td>\n",
              "      <td>175</td>\n",
              "      <td>74</td>\n",
              "      <td>Belgium</td>\n",
              "      <td>Real Madrid</td>\n",
              "      <td>90000000</td>\n",
              "      <td>Right</td>\n",
              "    </tr>\n",
              "  </tbody>\n",
              "</table>\n",
              "</div>\n",
              "    <div class=\"colab-df-buttons\">\n",
              "\n",
              "  <div class=\"colab-df-container\">\n",
              "    <button class=\"colab-df-convert\" onclick=\"convertToInteractive('df-434469af-91a6-48c1-ba2b-918d81f45b59')\"\n",
              "            title=\"Convert this dataframe to an interactive table.\"\n",
              "            style=\"display:none;\">\n",
              "\n",
              "  <svg xmlns=\"http://www.w3.org/2000/svg\" height=\"24px\" viewBox=\"0 -960 960 960\">\n",
              "    <path d=\"M120-120v-720h720v720H120Zm60-500h600v-160H180v160Zm220 220h160v-160H400v160Zm0 220h160v-160H400v160ZM180-400h160v-160H180v160Zm440 0h160v-160H620v160ZM180-180h160v-160H180v160Zm440 0h160v-160H620v160Z\"/>\n",
              "  </svg>\n",
              "    </button>\n",
              "\n",
              "  <style>\n",
              "    .colab-df-container {\n",
              "      display:flex;\n",
              "      gap: 12px;\n",
              "    }\n",
              "\n",
              "    .colab-df-convert {\n",
              "      background-color: #E8F0FE;\n",
              "      border: none;\n",
              "      border-radius: 50%;\n",
              "      cursor: pointer;\n",
              "      display: none;\n",
              "      fill: #1967D2;\n",
              "      height: 32px;\n",
              "      padding: 0 0 0 0;\n",
              "      width: 32px;\n",
              "    }\n",
              "\n",
              "    .colab-df-convert:hover {\n",
              "      background-color: #E2EBFA;\n",
              "      box-shadow: 0px 1px 2px rgba(60, 64, 67, 0.3), 0px 1px 3px 1px rgba(60, 64, 67, 0.15);\n",
              "      fill: #174EA6;\n",
              "    }\n",
              "\n",
              "    .colab-df-buttons div {\n",
              "      margin-bottom: 4px;\n",
              "    }\n",
              "\n",
              "    [theme=dark] .colab-df-convert {\n",
              "      background-color: #3B4455;\n",
              "      fill: #D2E3FC;\n",
              "    }\n",
              "\n",
              "    [theme=dark] .colab-df-convert:hover {\n",
              "      background-color: #434B5C;\n",
              "      box-shadow: 0px 1px 3px 1px rgba(0, 0, 0, 0.15);\n",
              "      filter: drop-shadow(0px 1px 2px rgba(0, 0, 0, 0.3));\n",
              "      fill: #FFFFFF;\n",
              "    }\n",
              "  </style>\n",
              "\n",
              "    <script>\n",
              "      const buttonEl =\n",
              "        document.querySelector('#df-434469af-91a6-48c1-ba2b-918d81f45b59 button.colab-df-convert');\n",
              "      buttonEl.style.display =\n",
              "        google.colab.kernel.accessAllowed ? 'block' : 'none';\n",
              "\n",
              "      async function convertToInteractive(key) {\n",
              "        const element = document.querySelector('#df-434469af-91a6-48c1-ba2b-918d81f45b59');\n",
              "        const dataTable =\n",
              "          await google.colab.kernel.invokeFunction('convertToInteractive',\n",
              "                                                    [key], {});\n",
              "        if (!dataTable) return;\n",
              "\n",
              "        const docLinkHtml = 'Like what you see? Visit the ' +\n",
              "          '<a target=\"_blank\" href=https://colab.research.google.com/notebooks/data_table.ipynb>data table notebook</a>'\n",
              "          + ' to learn more about interactive tables.';\n",
              "        element.innerHTML = '';\n",
              "        dataTable['output_type'] = 'display_data';\n",
              "        await google.colab.output.renderOutput(dataTable, element);\n",
              "        const docLink = document.createElement('div');\n",
              "        docLink.innerHTML = docLinkHtml;\n",
              "        element.appendChild(docLink);\n",
              "      }\n",
              "    </script>\n",
              "  </div>\n",
              "\n",
              "\n",
              "<div id=\"df-ae89fcb8-9974-4b78-bab0-3af76c0c4975\">\n",
              "  <button class=\"colab-df-quickchart\" onclick=\"quickchart('df-ae89fcb8-9974-4b78-bab0-3af76c0c4975')\"\n",
              "            title=\"Suggest charts\"\n",
              "            style=\"display:none;\">\n",
              "\n",
              "<svg xmlns=\"http://www.w3.org/2000/svg\" height=\"24px\"viewBox=\"0 0 24 24\"\n",
              "     width=\"24px\">\n",
              "    <g>\n",
              "        <path d=\"M19 3H5c-1.1 0-2 .9-2 2v14c0 1.1.9 2 2 2h14c1.1 0 2-.9 2-2V5c0-1.1-.9-2-2-2zM9 17H7v-7h2v7zm4 0h-2V7h2v10zm4 0h-2v-4h2v4z\"/>\n",
              "    </g>\n",
              "</svg>\n",
              "  </button>\n",
              "\n",
              "<style>\n",
              "  .colab-df-quickchart {\n",
              "      --bg-color: #E8F0FE;\n",
              "      --fill-color: #1967D2;\n",
              "      --hover-bg-color: #E2EBFA;\n",
              "      --hover-fill-color: #174EA6;\n",
              "      --disabled-fill-color: #AAA;\n",
              "      --disabled-bg-color: #DDD;\n",
              "  }\n",
              "\n",
              "  [theme=dark] .colab-df-quickchart {\n",
              "      --bg-color: #3B4455;\n",
              "      --fill-color: #D2E3FC;\n",
              "      --hover-bg-color: #434B5C;\n",
              "      --hover-fill-color: #FFFFFF;\n",
              "      --disabled-bg-color: #3B4455;\n",
              "      --disabled-fill-color: #666;\n",
              "  }\n",
              "\n",
              "  .colab-df-quickchart {\n",
              "    background-color: var(--bg-color);\n",
              "    border: none;\n",
              "    border-radius: 50%;\n",
              "    cursor: pointer;\n",
              "    display: none;\n",
              "    fill: var(--fill-color);\n",
              "    height: 32px;\n",
              "    padding: 0;\n",
              "    width: 32px;\n",
              "  }\n",
              "\n",
              "  .colab-df-quickchart:hover {\n",
              "    background-color: var(--hover-bg-color);\n",
              "    box-shadow: 0 1px 2px rgba(60, 64, 67, 0.3), 0 1px 3px 1px rgba(60, 64, 67, 0.15);\n",
              "    fill: var(--button-hover-fill-color);\n",
              "  }\n",
              "\n",
              "  .colab-df-quickchart-complete:disabled,\n",
              "  .colab-df-quickchart-complete:disabled:hover {\n",
              "    background-color: var(--disabled-bg-color);\n",
              "    fill: var(--disabled-fill-color);\n",
              "    box-shadow: none;\n",
              "  }\n",
              "\n",
              "  .colab-df-spinner {\n",
              "    border: 2px solid var(--fill-color);\n",
              "    border-color: transparent;\n",
              "    border-bottom-color: var(--fill-color);\n",
              "    animation:\n",
              "      spin 1s steps(1) infinite;\n",
              "  }\n",
              "\n",
              "  @keyframes spin {\n",
              "    0% {\n",
              "      border-color: transparent;\n",
              "      border-bottom-color: var(--fill-color);\n",
              "      border-left-color: var(--fill-color);\n",
              "    }\n",
              "    20% {\n",
              "      border-color: transparent;\n",
              "      border-left-color: var(--fill-color);\n",
              "      border-top-color: var(--fill-color);\n",
              "    }\n",
              "    30% {\n",
              "      border-color: transparent;\n",
              "      border-left-color: var(--fill-color);\n",
              "      border-top-color: var(--fill-color);\n",
              "      border-right-color: var(--fill-color);\n",
              "    }\n",
              "    40% {\n",
              "      border-color: transparent;\n",
              "      border-right-color: var(--fill-color);\n",
              "      border-top-color: var(--fill-color);\n",
              "    }\n",
              "    60% {\n",
              "      border-color: transparent;\n",
              "      border-right-color: var(--fill-color);\n",
              "    }\n",
              "    80% {\n",
              "      border-color: transparent;\n",
              "      border-right-color: var(--fill-color);\n",
              "      border-bottom-color: var(--fill-color);\n",
              "    }\n",
              "    90% {\n",
              "      border-color: transparent;\n",
              "      border-bottom-color: var(--fill-color);\n",
              "    }\n",
              "  }\n",
              "</style>\n",
              "\n",
              "  <script>\n",
              "    async function quickchart(key) {\n",
              "      const quickchartButtonEl =\n",
              "        document.querySelector('#' + key + ' button');\n",
              "      quickchartButtonEl.disabled = true;  // To prevent multiple clicks.\n",
              "      quickchartButtonEl.classList.add('colab-df-spinner');\n",
              "      try {\n",
              "        const charts = await google.colab.kernel.invokeFunction(\n",
              "            'suggestCharts', [key], {});\n",
              "      } catch (error) {\n",
              "        console.error('Error during call to suggestCharts:', error);\n",
              "      }\n",
              "      quickchartButtonEl.classList.remove('colab-df-spinner');\n",
              "      quickchartButtonEl.classList.add('colab-df-quickchart-complete');\n",
              "    }\n",
              "    (() => {\n",
              "      let quickchartButtonEl =\n",
              "        document.querySelector('#df-ae89fcb8-9974-4b78-bab0-3af76c0c4975 button');\n",
              "      quickchartButtonEl.style.display =\n",
              "        google.colab.kernel.accessAllowed ? 'block' : 'none';\n",
              "    })();\n",
              "  </script>\n",
              "</div>\n",
              "\n",
              "    </div>\n",
              "  </div>\n"
            ],
            "text/plain": [
              "          short_name  age  height_cm  weight_kg nationality  \\\n",
              "0           L. Messi   32        170         72   Argentina   \n",
              "1  Cristiano Ronaldo   34        187         83    Portugal   \n",
              "2          Neymar Jr   27        175         68      Brazil   \n",
              "3           J. Oblak   26        188         87    Slovenia   \n",
              "4          E. Hazard   28        175         74     Belgium   \n",
              "\n",
              "                  club  value_eur preferred_foot  \n",
              "0         FC Barcelona   95500000           Left  \n",
              "1             Juventus   58500000          Right  \n",
              "2  Paris Saint-Germain  105500000          Right  \n",
              "3      Atlético Madrid   77500000          Right  \n",
              "4          Real Madrid   90000000          Right  "
            ]
          },
          "execution_count": 162,
          "metadata": {},
          "output_type": "execute_result"
        }
      ],
      "source": [
        "#si quiero visualizar solo las primeras 5 filas, entonces:\n",
        "df_pandas.head(5)"
      ]
    },
    {
      "cell_type": "code",
      "execution_count": 163,
      "metadata": {
        "application/vnd.databricks.v1+cell": {
          "inputWidgets": {},
          "nuid": "f11bc1b3-0418-4bbf-93db-072ce752d08d",
          "showTitle": false,
          "title": ""
        },
        "colab": {
          "base_uri": "https://localhost:8080/",
          "height": 206
        },
        "id": "flL_6RT8p4d-",
        "outputId": "17bec2de-c101-4835-c9a8-b3476aa8bf13"
      },
      "outputs": [
        {
          "data": {
            "application/vnd.google.colaboratory.intrinsic+json": {
              "summary": "{\n  \"name\": \"df_fifa\",\n  \"rows\": 5,\n  \"fields\": [\n    {\n      \"column\": \"short_name\",\n      \"properties\": {\n        \"dtype\": \"string\",\n        \"num_unique_values\": 5,\n        \"samples\": [\n          \"Cristiano Ronaldo\",\n          \"E. Hazard\",\n          \"Neymar Jr\"\n        ],\n        \"semantic_type\": \"\",\n        \"description\": \"\"\n      }\n    },\n    {\n      \"column\": \"age\",\n      \"properties\": {\n        \"dtype\": \"int32\",\n        \"num_unique_values\": 5,\n        \"samples\": [\n          34,\n          28,\n          27\n        ],\n        \"semantic_type\": \"\",\n        \"description\": \"\"\n      }\n    },\n    {\n      \"column\": \"height_cm\",\n      \"properties\": {\n        \"dtype\": \"int32\",\n        \"num_unique_values\": 4,\n        \"samples\": [\n          187,\n          188,\n          170\n        ],\n        \"semantic_type\": \"\",\n        \"description\": \"\"\n      }\n    },\n    {\n      \"column\": \"weight_kg\",\n      \"properties\": {\n        \"dtype\": \"int32\",\n        \"num_unique_values\": 5,\n        \"samples\": [\n          83,\n          74,\n          68\n        ],\n        \"semantic_type\": \"\",\n        \"description\": \"\"\n      }\n    },\n    {\n      \"column\": \"nationality\",\n      \"properties\": {\n        \"dtype\": \"string\",\n        \"num_unique_values\": 5,\n        \"samples\": [\n          \"Portugal\",\n          \"Belgium\",\n          \"Brazil\"\n        ],\n        \"semantic_type\": \"\",\n        \"description\": \"\"\n      }\n    },\n    {\n      \"column\": \"club\",\n      \"properties\": {\n        \"dtype\": \"string\",\n        \"num_unique_values\": 5,\n        \"samples\": [\n          \"Juventus\",\n          \"Real Madrid\",\n          \"Paris Saint-Germain\"\n        ],\n        \"semantic_type\": \"\",\n        \"description\": \"\"\n      }\n    },\n    {\n      \"column\": \"value_eur\",\n      \"properties\": {\n        \"dtype\": \"int32\",\n        \"num_unique_values\": 5,\n        \"samples\": [\n          58500000,\n          90000000,\n          105500000\n        ],\n        \"semantic_type\": \"\",\n        \"description\": \"\"\n      }\n    },\n    {\n      \"column\": \"preferred_foot\",\n      \"properties\": {\n        \"dtype\": \"category\",\n        \"num_unique_values\": 2,\n        \"samples\": [\n          \"Right\",\n          \"Left\"\n        ],\n        \"semantic_type\": \"\",\n        \"description\": \"\"\n      }\n    }\n  ]\n}",
              "type": "dataframe"
            },
            "text/html": [
              "\n",
              "  <div id=\"df-20fb7df7-7a89-4be2-9609-780f5a582574\" class=\"colab-df-container\">\n",
              "    <div>\n",
              "<style scoped>\n",
              "    .dataframe tbody tr th:only-of-type {\n",
              "        vertical-align: middle;\n",
              "    }\n",
              "\n",
              "    .dataframe tbody tr th {\n",
              "        vertical-align: top;\n",
              "    }\n",
              "\n",
              "    .dataframe thead th {\n",
              "        text-align: right;\n",
              "    }\n",
              "</style>\n",
              "<table border=\"1\" class=\"dataframe\">\n",
              "  <thead>\n",
              "    <tr style=\"text-align: right;\">\n",
              "      <th></th>\n",
              "      <th>short_name</th>\n",
              "      <th>age</th>\n",
              "      <th>height_cm</th>\n",
              "      <th>weight_kg</th>\n",
              "      <th>nationality</th>\n",
              "      <th>club</th>\n",
              "      <th>value_eur</th>\n",
              "      <th>preferred_foot</th>\n",
              "    </tr>\n",
              "  </thead>\n",
              "  <tbody>\n",
              "    <tr>\n",
              "      <th>0</th>\n",
              "      <td>L. Messi</td>\n",
              "      <td>32</td>\n",
              "      <td>170</td>\n",
              "      <td>72</td>\n",
              "      <td>Argentina</td>\n",
              "      <td>FC Barcelona</td>\n",
              "      <td>95500000</td>\n",
              "      <td>Left</td>\n",
              "    </tr>\n",
              "    <tr>\n",
              "      <th>1</th>\n",
              "      <td>Cristiano Ronaldo</td>\n",
              "      <td>34</td>\n",
              "      <td>187</td>\n",
              "      <td>83</td>\n",
              "      <td>Portugal</td>\n",
              "      <td>Juventus</td>\n",
              "      <td>58500000</td>\n",
              "      <td>Right</td>\n",
              "    </tr>\n",
              "    <tr>\n",
              "      <th>2</th>\n",
              "      <td>Neymar Jr</td>\n",
              "      <td>27</td>\n",
              "      <td>175</td>\n",
              "      <td>68</td>\n",
              "      <td>Brazil</td>\n",
              "      <td>Paris Saint-Germain</td>\n",
              "      <td>105500000</td>\n",
              "      <td>Right</td>\n",
              "    </tr>\n",
              "    <tr>\n",
              "      <th>3</th>\n",
              "      <td>J. Oblak</td>\n",
              "      <td>26</td>\n",
              "      <td>188</td>\n",
              "      <td>87</td>\n",
              "      <td>Slovenia</td>\n",
              "      <td>Atlético Madrid</td>\n",
              "      <td>77500000</td>\n",
              "      <td>Right</td>\n",
              "    </tr>\n",
              "    <tr>\n",
              "      <th>4</th>\n",
              "      <td>E. Hazard</td>\n",
              "      <td>28</td>\n",
              "      <td>175</td>\n",
              "      <td>74</td>\n",
              "      <td>Belgium</td>\n",
              "      <td>Real Madrid</td>\n",
              "      <td>90000000</td>\n",
              "      <td>Right</td>\n",
              "    </tr>\n",
              "  </tbody>\n",
              "</table>\n",
              "</div>\n",
              "    <div class=\"colab-df-buttons\">\n",
              "\n",
              "  <div class=\"colab-df-container\">\n",
              "    <button class=\"colab-df-convert\" onclick=\"convertToInteractive('df-20fb7df7-7a89-4be2-9609-780f5a582574')\"\n",
              "            title=\"Convert this dataframe to an interactive table.\"\n",
              "            style=\"display:none;\">\n",
              "\n",
              "  <svg xmlns=\"http://www.w3.org/2000/svg\" height=\"24px\" viewBox=\"0 -960 960 960\">\n",
              "    <path d=\"M120-120v-720h720v720H120Zm60-500h600v-160H180v160Zm220 220h160v-160H400v160Zm0 220h160v-160H400v160ZM180-400h160v-160H180v160Zm440 0h160v-160H620v160ZM180-180h160v-160H180v160Zm440 0h160v-160H620v160Z\"/>\n",
              "  </svg>\n",
              "    </button>\n",
              "\n",
              "  <style>\n",
              "    .colab-df-container {\n",
              "      display:flex;\n",
              "      gap: 12px;\n",
              "    }\n",
              "\n",
              "    .colab-df-convert {\n",
              "      background-color: #E8F0FE;\n",
              "      border: none;\n",
              "      border-radius: 50%;\n",
              "      cursor: pointer;\n",
              "      display: none;\n",
              "      fill: #1967D2;\n",
              "      height: 32px;\n",
              "      padding: 0 0 0 0;\n",
              "      width: 32px;\n",
              "    }\n",
              "\n",
              "    .colab-df-convert:hover {\n",
              "      background-color: #E2EBFA;\n",
              "      box-shadow: 0px 1px 2px rgba(60, 64, 67, 0.3), 0px 1px 3px 1px rgba(60, 64, 67, 0.15);\n",
              "      fill: #174EA6;\n",
              "    }\n",
              "\n",
              "    .colab-df-buttons div {\n",
              "      margin-bottom: 4px;\n",
              "    }\n",
              "\n",
              "    [theme=dark] .colab-df-convert {\n",
              "      background-color: #3B4455;\n",
              "      fill: #D2E3FC;\n",
              "    }\n",
              "\n",
              "    [theme=dark] .colab-df-convert:hover {\n",
              "      background-color: #434B5C;\n",
              "      box-shadow: 0px 1px 3px 1px rgba(0, 0, 0, 0.15);\n",
              "      filter: drop-shadow(0px 1px 2px rgba(0, 0, 0, 0.3));\n",
              "      fill: #FFFFFF;\n",
              "    }\n",
              "  </style>\n",
              "\n",
              "    <script>\n",
              "      const buttonEl =\n",
              "        document.querySelector('#df-20fb7df7-7a89-4be2-9609-780f5a582574 button.colab-df-convert');\n",
              "      buttonEl.style.display =\n",
              "        google.colab.kernel.accessAllowed ? 'block' : 'none';\n",
              "\n",
              "      async function convertToInteractive(key) {\n",
              "        const element = document.querySelector('#df-20fb7df7-7a89-4be2-9609-780f5a582574');\n",
              "        const dataTable =\n",
              "          await google.colab.kernel.invokeFunction('convertToInteractive',\n",
              "                                                    [key], {});\n",
              "        if (!dataTable) return;\n",
              "\n",
              "        const docLinkHtml = 'Like what you see? Visit the ' +\n",
              "          '<a target=\"_blank\" href=https://colab.research.google.com/notebooks/data_table.ipynb>data table notebook</a>'\n",
              "          + ' to learn more about interactive tables.';\n",
              "        element.innerHTML = '';\n",
              "        dataTable['output_type'] = 'display_data';\n",
              "        await google.colab.output.renderOutput(dataTable, element);\n",
              "        const docLink = document.createElement('div');\n",
              "        docLink.innerHTML = docLinkHtml;\n",
              "        element.appendChild(docLink);\n",
              "      }\n",
              "    </script>\n",
              "  </div>\n",
              "\n",
              "\n",
              "<div id=\"df-1e162a40-b37c-4595-a24e-9256d551ad24\">\n",
              "  <button class=\"colab-df-quickchart\" onclick=\"quickchart('df-1e162a40-b37c-4595-a24e-9256d551ad24')\"\n",
              "            title=\"Suggest charts\"\n",
              "            style=\"display:none;\">\n",
              "\n",
              "<svg xmlns=\"http://www.w3.org/2000/svg\" height=\"24px\"viewBox=\"0 0 24 24\"\n",
              "     width=\"24px\">\n",
              "    <g>\n",
              "        <path d=\"M19 3H5c-1.1 0-2 .9-2 2v14c0 1.1.9 2 2 2h14c1.1 0 2-.9 2-2V5c0-1.1-.9-2-2-2zM9 17H7v-7h2v7zm4 0h-2V7h2v10zm4 0h-2v-4h2v4z\"/>\n",
              "    </g>\n",
              "</svg>\n",
              "  </button>\n",
              "\n",
              "<style>\n",
              "  .colab-df-quickchart {\n",
              "      --bg-color: #E8F0FE;\n",
              "      --fill-color: #1967D2;\n",
              "      --hover-bg-color: #E2EBFA;\n",
              "      --hover-fill-color: #174EA6;\n",
              "      --disabled-fill-color: #AAA;\n",
              "      --disabled-bg-color: #DDD;\n",
              "  }\n",
              "\n",
              "  [theme=dark] .colab-df-quickchart {\n",
              "      --bg-color: #3B4455;\n",
              "      --fill-color: #D2E3FC;\n",
              "      --hover-bg-color: #434B5C;\n",
              "      --hover-fill-color: #FFFFFF;\n",
              "      --disabled-bg-color: #3B4455;\n",
              "      --disabled-fill-color: #666;\n",
              "  }\n",
              "\n",
              "  .colab-df-quickchart {\n",
              "    background-color: var(--bg-color);\n",
              "    border: none;\n",
              "    border-radius: 50%;\n",
              "    cursor: pointer;\n",
              "    display: none;\n",
              "    fill: var(--fill-color);\n",
              "    height: 32px;\n",
              "    padding: 0;\n",
              "    width: 32px;\n",
              "  }\n",
              "\n",
              "  .colab-df-quickchart:hover {\n",
              "    background-color: var(--hover-bg-color);\n",
              "    box-shadow: 0 1px 2px rgba(60, 64, 67, 0.3), 0 1px 3px 1px rgba(60, 64, 67, 0.15);\n",
              "    fill: var(--button-hover-fill-color);\n",
              "  }\n",
              "\n",
              "  .colab-df-quickchart-complete:disabled,\n",
              "  .colab-df-quickchart-complete:disabled:hover {\n",
              "    background-color: var(--disabled-bg-color);\n",
              "    fill: var(--disabled-fill-color);\n",
              "    box-shadow: none;\n",
              "  }\n",
              "\n",
              "  .colab-df-spinner {\n",
              "    border: 2px solid var(--fill-color);\n",
              "    border-color: transparent;\n",
              "    border-bottom-color: var(--fill-color);\n",
              "    animation:\n",
              "      spin 1s steps(1) infinite;\n",
              "  }\n",
              "\n",
              "  @keyframes spin {\n",
              "    0% {\n",
              "      border-color: transparent;\n",
              "      border-bottom-color: var(--fill-color);\n",
              "      border-left-color: var(--fill-color);\n",
              "    }\n",
              "    20% {\n",
              "      border-color: transparent;\n",
              "      border-left-color: var(--fill-color);\n",
              "      border-top-color: var(--fill-color);\n",
              "    }\n",
              "    30% {\n",
              "      border-color: transparent;\n",
              "      border-left-color: var(--fill-color);\n",
              "      border-top-color: var(--fill-color);\n",
              "      border-right-color: var(--fill-color);\n",
              "    }\n",
              "    40% {\n",
              "      border-color: transparent;\n",
              "      border-right-color: var(--fill-color);\n",
              "      border-top-color: var(--fill-color);\n",
              "    }\n",
              "    60% {\n",
              "      border-color: transparent;\n",
              "      border-right-color: var(--fill-color);\n",
              "    }\n",
              "    80% {\n",
              "      border-color: transparent;\n",
              "      border-right-color: var(--fill-color);\n",
              "      border-bottom-color: var(--fill-color);\n",
              "    }\n",
              "    90% {\n",
              "      border-color: transparent;\n",
              "      border-bottom-color: var(--fill-color);\n",
              "    }\n",
              "  }\n",
              "</style>\n",
              "\n",
              "  <script>\n",
              "    async function quickchart(key) {\n",
              "      const quickchartButtonEl =\n",
              "        document.querySelector('#' + key + ' button');\n",
              "      quickchartButtonEl.disabled = true;  // To prevent multiple clicks.\n",
              "      quickchartButtonEl.classList.add('colab-df-spinner');\n",
              "      try {\n",
              "        const charts = await google.colab.kernel.invokeFunction(\n",
              "            'suggestCharts', [key], {});\n",
              "      } catch (error) {\n",
              "        console.error('Error during call to suggestCharts:', error);\n",
              "      }\n",
              "      quickchartButtonEl.classList.remove('colab-df-spinner');\n",
              "      quickchartButtonEl.classList.add('colab-df-quickchart-complete');\n",
              "    }\n",
              "    (() => {\n",
              "      let quickchartButtonEl =\n",
              "        document.querySelector('#df-1e162a40-b37c-4595-a24e-9256d551ad24 button');\n",
              "      quickchartButtonEl.style.display =\n",
              "        google.colab.kernel.accessAllowed ? 'block' : 'none';\n",
              "    })();\n",
              "  </script>\n",
              "</div>\n",
              "\n",
              "    </div>\n",
              "  </div>\n"
            ],
            "text/plain": [
              "          short_name  age  height_cm  weight_kg nationality  \\\n",
              "0           L. Messi   32        170         72   Argentina   \n",
              "1  Cristiano Ronaldo   34        187         83    Portugal   \n",
              "2          Neymar Jr   27        175         68      Brazil   \n",
              "3           J. Oblak   26        188         87    Slovenia   \n",
              "4          E. Hazard   28        175         74     Belgium   \n",
              "\n",
              "                  club  value_eur preferred_foot  \n",
              "0         FC Barcelona   95500000           Left  \n",
              "1             Juventus   58500000          Right  \n",
              "2  Paris Saint-Germain  105500000          Right  \n",
              "3      Atlético Madrid   77500000          Right  \n",
              "4          Real Madrid   90000000          Right  "
            ]
          },
          "execution_count": 163,
          "metadata": {},
          "output_type": "execute_result"
        }
      ],
      "source": [
        "#Otra forma de hace lo mismo es:\n",
        "df_fifa.limit(10).toPandas().head(5)"
      ]
    },
    {
      "cell_type": "code",
      "execution_count": 164,
      "metadata": {
        "application/vnd.databricks.v1+cell": {
          "inputWidgets": {},
          "nuid": "76434e70-1880-4045-b8a9-bf7543c709d5",
          "showTitle": false,
          "title": ""
        },
        "colab": {
          "base_uri": "https://localhost:8080/",
          "height": 206
        },
        "id": "sBZsSJ6mp4d-",
        "outputId": "ef70458a-8e20-4e78-9805-8ca8b8b08510"
      },
      "outputs": [
        {
          "data": {
            "application/vnd.google.colaboratory.intrinsic+json": {
              "summary": "{\n  \"name\": \"  \",\n  \"rows\": 5,\n  \"fields\": [\n    {\n      \"column\": \"short_name\",\n      \"properties\": {\n        \"dtype\": \"string\",\n        \"num_unique_values\": 5,\n        \"samples\": [\n          \"Cristiano Ronaldo\",\n          \"E. Hazard\",\n          \"Neymar Jr\"\n        ],\n        \"semantic_type\": \"\",\n        \"description\": \"\"\n      }\n    },\n    {\n      \"column\": \"age\",\n      \"properties\": {\n        \"dtype\": \"int32\",\n        \"num_unique_values\": 5,\n        \"samples\": [\n          34,\n          28,\n          27\n        ],\n        \"semantic_type\": \"\",\n        \"description\": \"\"\n      }\n    },\n    {\n      \"column\": \"height_cm\",\n      \"properties\": {\n        \"dtype\": \"int32\",\n        \"num_unique_values\": 4,\n        \"samples\": [\n          187,\n          188,\n          170\n        ],\n        \"semantic_type\": \"\",\n        \"description\": \"\"\n      }\n    },\n    {\n      \"column\": \"weight_kg\",\n      \"properties\": {\n        \"dtype\": \"int32\",\n        \"num_unique_values\": 5,\n        \"samples\": [\n          83,\n          74,\n          68\n        ],\n        \"semantic_type\": \"\",\n        \"description\": \"\"\n      }\n    },\n    {\n      \"column\": \"nationality\",\n      \"properties\": {\n        \"dtype\": \"string\",\n        \"num_unique_values\": 5,\n        \"samples\": [\n          \"Portugal\",\n          \"Belgium\",\n          \"Brazil\"\n        ],\n        \"semantic_type\": \"\",\n        \"description\": \"\"\n      }\n    },\n    {\n      \"column\": \"club\",\n      \"properties\": {\n        \"dtype\": \"string\",\n        \"num_unique_values\": 5,\n        \"samples\": [\n          \"Juventus\",\n          \"Real Madrid\",\n          \"Paris Saint-Germain\"\n        ],\n        \"semantic_type\": \"\",\n        \"description\": \"\"\n      }\n    },\n    {\n      \"column\": \"value_eur\",\n      \"properties\": {\n        \"dtype\": \"int32\",\n        \"num_unique_values\": 5,\n        \"samples\": [\n          58500000,\n          90000000,\n          105500000\n        ],\n        \"semantic_type\": \"\",\n        \"description\": \"\"\n      }\n    },\n    {\n      \"column\": \"preferred_foot\",\n      \"properties\": {\n        \"dtype\": \"category\",\n        \"num_unique_values\": 2,\n        \"samples\": [\n          \"Right\",\n          \"Left\"\n        ],\n        \"semantic_type\": \"\",\n        \"description\": \"\"\n      }\n    }\n  ]\n}",
              "type": "dataframe"
            },
            "text/html": [
              "\n",
              "  <div id=\"df-1ef2c3df-e5f7-4e9f-a59d-1800c551f736\" class=\"colab-df-container\">\n",
              "    <div>\n",
              "<style scoped>\n",
              "    .dataframe tbody tr th:only-of-type {\n",
              "        vertical-align: middle;\n",
              "    }\n",
              "\n",
              "    .dataframe tbody tr th {\n",
              "        vertical-align: top;\n",
              "    }\n",
              "\n",
              "    .dataframe thead th {\n",
              "        text-align: right;\n",
              "    }\n",
              "</style>\n",
              "<table border=\"1\" class=\"dataframe\">\n",
              "  <thead>\n",
              "    <tr style=\"text-align: right;\">\n",
              "      <th></th>\n",
              "      <th>short_name</th>\n",
              "      <th>age</th>\n",
              "      <th>height_cm</th>\n",
              "      <th>weight_kg</th>\n",
              "      <th>nationality</th>\n",
              "      <th>club</th>\n",
              "      <th>value_eur</th>\n",
              "      <th>preferred_foot</th>\n",
              "    </tr>\n",
              "  </thead>\n",
              "  <tbody>\n",
              "    <tr>\n",
              "      <th>0</th>\n",
              "      <td>L. Messi</td>\n",
              "      <td>32</td>\n",
              "      <td>170</td>\n",
              "      <td>72</td>\n",
              "      <td>Argentina</td>\n",
              "      <td>FC Barcelona</td>\n",
              "      <td>95500000</td>\n",
              "      <td>Left</td>\n",
              "    </tr>\n",
              "    <tr>\n",
              "      <th>1</th>\n",
              "      <td>Cristiano Ronaldo</td>\n",
              "      <td>34</td>\n",
              "      <td>187</td>\n",
              "      <td>83</td>\n",
              "      <td>Portugal</td>\n",
              "      <td>Juventus</td>\n",
              "      <td>58500000</td>\n",
              "      <td>Right</td>\n",
              "    </tr>\n",
              "    <tr>\n",
              "      <th>2</th>\n",
              "      <td>Neymar Jr</td>\n",
              "      <td>27</td>\n",
              "      <td>175</td>\n",
              "      <td>68</td>\n",
              "      <td>Brazil</td>\n",
              "      <td>Paris Saint-Germain</td>\n",
              "      <td>105500000</td>\n",
              "      <td>Right</td>\n",
              "    </tr>\n",
              "    <tr>\n",
              "      <th>3</th>\n",
              "      <td>J. Oblak</td>\n",
              "      <td>26</td>\n",
              "      <td>188</td>\n",
              "      <td>87</td>\n",
              "      <td>Slovenia</td>\n",
              "      <td>Atlético Madrid</td>\n",
              "      <td>77500000</td>\n",
              "      <td>Right</td>\n",
              "    </tr>\n",
              "    <tr>\n",
              "      <th>4</th>\n",
              "      <td>E. Hazard</td>\n",
              "      <td>28</td>\n",
              "      <td>175</td>\n",
              "      <td>74</td>\n",
              "      <td>Belgium</td>\n",
              "      <td>Real Madrid</td>\n",
              "      <td>90000000</td>\n",
              "      <td>Right</td>\n",
              "    </tr>\n",
              "  </tbody>\n",
              "</table>\n",
              "</div>\n",
              "    <div class=\"colab-df-buttons\">\n",
              "\n",
              "  <div class=\"colab-df-container\">\n",
              "    <button class=\"colab-df-convert\" onclick=\"convertToInteractive('df-1ef2c3df-e5f7-4e9f-a59d-1800c551f736')\"\n",
              "            title=\"Convert this dataframe to an interactive table.\"\n",
              "            style=\"display:none;\">\n",
              "\n",
              "  <svg xmlns=\"http://www.w3.org/2000/svg\" height=\"24px\" viewBox=\"0 -960 960 960\">\n",
              "    <path d=\"M120-120v-720h720v720H120Zm60-500h600v-160H180v160Zm220 220h160v-160H400v160Zm0 220h160v-160H400v160ZM180-400h160v-160H180v160Zm440 0h160v-160H620v160ZM180-180h160v-160H180v160Zm440 0h160v-160H620v160Z\"/>\n",
              "  </svg>\n",
              "    </button>\n",
              "\n",
              "  <style>\n",
              "    .colab-df-container {\n",
              "      display:flex;\n",
              "      gap: 12px;\n",
              "    }\n",
              "\n",
              "    .colab-df-convert {\n",
              "      background-color: #E8F0FE;\n",
              "      border: none;\n",
              "      border-radius: 50%;\n",
              "      cursor: pointer;\n",
              "      display: none;\n",
              "      fill: #1967D2;\n",
              "      height: 32px;\n",
              "      padding: 0 0 0 0;\n",
              "      width: 32px;\n",
              "    }\n",
              "\n",
              "    .colab-df-convert:hover {\n",
              "      background-color: #E2EBFA;\n",
              "      box-shadow: 0px 1px 2px rgba(60, 64, 67, 0.3), 0px 1px 3px 1px rgba(60, 64, 67, 0.15);\n",
              "      fill: #174EA6;\n",
              "    }\n",
              "\n",
              "    .colab-df-buttons div {\n",
              "      margin-bottom: 4px;\n",
              "    }\n",
              "\n",
              "    [theme=dark] .colab-df-convert {\n",
              "      background-color: #3B4455;\n",
              "      fill: #D2E3FC;\n",
              "    }\n",
              "\n",
              "    [theme=dark] .colab-df-convert:hover {\n",
              "      background-color: #434B5C;\n",
              "      box-shadow: 0px 1px 3px 1px rgba(0, 0, 0, 0.15);\n",
              "      filter: drop-shadow(0px 1px 2px rgba(0, 0, 0, 0.3));\n",
              "      fill: #FFFFFF;\n",
              "    }\n",
              "  </style>\n",
              "\n",
              "    <script>\n",
              "      const buttonEl =\n",
              "        document.querySelector('#df-1ef2c3df-e5f7-4e9f-a59d-1800c551f736 button.colab-df-convert');\n",
              "      buttonEl.style.display =\n",
              "        google.colab.kernel.accessAllowed ? 'block' : 'none';\n",
              "\n",
              "      async function convertToInteractive(key) {\n",
              "        const element = document.querySelector('#df-1ef2c3df-e5f7-4e9f-a59d-1800c551f736');\n",
              "        const dataTable =\n",
              "          await google.colab.kernel.invokeFunction('convertToInteractive',\n",
              "                                                    [key], {});\n",
              "        if (!dataTable) return;\n",
              "\n",
              "        const docLinkHtml = 'Like what you see? Visit the ' +\n",
              "          '<a target=\"_blank\" href=https://colab.research.google.com/notebooks/data_table.ipynb>data table notebook</a>'\n",
              "          + ' to learn more about interactive tables.';\n",
              "        element.innerHTML = '';\n",
              "        dataTable['output_type'] = 'display_data';\n",
              "        await google.colab.output.renderOutput(dataTable, element);\n",
              "        const docLink = document.createElement('div');\n",
              "        docLink.innerHTML = docLinkHtml;\n",
              "        element.appendChild(docLink);\n",
              "      }\n",
              "    </script>\n",
              "  </div>\n",
              "\n",
              "\n",
              "<div id=\"df-7ee8f6bb-7e56-4da3-a850-51cc185453e7\">\n",
              "  <button class=\"colab-df-quickchart\" onclick=\"quickchart('df-7ee8f6bb-7e56-4da3-a850-51cc185453e7')\"\n",
              "            title=\"Suggest charts\"\n",
              "            style=\"display:none;\">\n",
              "\n",
              "<svg xmlns=\"http://www.w3.org/2000/svg\" height=\"24px\"viewBox=\"0 0 24 24\"\n",
              "     width=\"24px\">\n",
              "    <g>\n",
              "        <path d=\"M19 3H5c-1.1 0-2 .9-2 2v14c0 1.1.9 2 2 2h14c1.1 0 2-.9 2-2V5c0-1.1-.9-2-2-2zM9 17H7v-7h2v7zm4 0h-2V7h2v10zm4 0h-2v-4h2v4z\"/>\n",
              "    </g>\n",
              "</svg>\n",
              "  </button>\n",
              "\n",
              "<style>\n",
              "  .colab-df-quickchart {\n",
              "      --bg-color: #E8F0FE;\n",
              "      --fill-color: #1967D2;\n",
              "      --hover-bg-color: #E2EBFA;\n",
              "      --hover-fill-color: #174EA6;\n",
              "      --disabled-fill-color: #AAA;\n",
              "      --disabled-bg-color: #DDD;\n",
              "  }\n",
              "\n",
              "  [theme=dark] .colab-df-quickchart {\n",
              "      --bg-color: #3B4455;\n",
              "      --fill-color: #D2E3FC;\n",
              "      --hover-bg-color: #434B5C;\n",
              "      --hover-fill-color: #FFFFFF;\n",
              "      --disabled-bg-color: #3B4455;\n",
              "      --disabled-fill-color: #666;\n",
              "  }\n",
              "\n",
              "  .colab-df-quickchart {\n",
              "    background-color: var(--bg-color);\n",
              "    border: none;\n",
              "    border-radius: 50%;\n",
              "    cursor: pointer;\n",
              "    display: none;\n",
              "    fill: var(--fill-color);\n",
              "    height: 32px;\n",
              "    padding: 0;\n",
              "    width: 32px;\n",
              "  }\n",
              "\n",
              "  .colab-df-quickchart:hover {\n",
              "    background-color: var(--hover-bg-color);\n",
              "    box-shadow: 0 1px 2px rgba(60, 64, 67, 0.3), 0 1px 3px 1px rgba(60, 64, 67, 0.15);\n",
              "    fill: var(--button-hover-fill-color);\n",
              "  }\n",
              "\n",
              "  .colab-df-quickchart-complete:disabled,\n",
              "  .colab-df-quickchart-complete:disabled:hover {\n",
              "    background-color: var(--disabled-bg-color);\n",
              "    fill: var(--disabled-fill-color);\n",
              "    box-shadow: none;\n",
              "  }\n",
              "\n",
              "  .colab-df-spinner {\n",
              "    border: 2px solid var(--fill-color);\n",
              "    border-color: transparent;\n",
              "    border-bottom-color: var(--fill-color);\n",
              "    animation:\n",
              "      spin 1s steps(1) infinite;\n",
              "  }\n",
              "\n",
              "  @keyframes spin {\n",
              "    0% {\n",
              "      border-color: transparent;\n",
              "      border-bottom-color: var(--fill-color);\n",
              "      border-left-color: var(--fill-color);\n",
              "    }\n",
              "    20% {\n",
              "      border-color: transparent;\n",
              "      border-left-color: var(--fill-color);\n",
              "      border-top-color: var(--fill-color);\n",
              "    }\n",
              "    30% {\n",
              "      border-color: transparent;\n",
              "      border-left-color: var(--fill-color);\n",
              "      border-top-color: var(--fill-color);\n",
              "      border-right-color: var(--fill-color);\n",
              "    }\n",
              "    40% {\n",
              "      border-color: transparent;\n",
              "      border-right-color: var(--fill-color);\n",
              "      border-top-color: var(--fill-color);\n",
              "    }\n",
              "    60% {\n",
              "      border-color: transparent;\n",
              "      border-right-color: var(--fill-color);\n",
              "    }\n",
              "    80% {\n",
              "      border-color: transparent;\n",
              "      border-right-color: var(--fill-color);\n",
              "      border-bottom-color: var(--fill-color);\n",
              "    }\n",
              "    90% {\n",
              "      border-color: transparent;\n",
              "      border-bottom-color: var(--fill-color);\n",
              "    }\n",
              "  }\n",
              "</style>\n",
              "\n",
              "  <script>\n",
              "    async function quickchart(key) {\n",
              "      const quickchartButtonEl =\n",
              "        document.querySelector('#' + key + ' button');\n",
              "      quickchartButtonEl.disabled = true;  // To prevent multiple clicks.\n",
              "      quickchartButtonEl.classList.add('colab-df-spinner');\n",
              "      try {\n",
              "        const charts = await google.colab.kernel.invokeFunction(\n",
              "            'suggestCharts', [key], {});\n",
              "      } catch (error) {\n",
              "        console.error('Error during call to suggestCharts:', error);\n",
              "      }\n",
              "      quickchartButtonEl.classList.remove('colab-df-spinner');\n",
              "      quickchartButtonEl.classList.add('colab-df-quickchart-complete');\n",
              "    }\n",
              "    (() => {\n",
              "      let quickchartButtonEl =\n",
              "        document.querySelector('#df-7ee8f6bb-7e56-4da3-a850-51cc185453e7 button');\n",
              "      quickchartButtonEl.style.display =\n",
              "        google.colab.kernel.accessAllowed ? 'block' : 'none';\n",
              "    })();\n",
              "  </script>\n",
              "</div>\n",
              "\n",
              "    </div>\n",
              "  </div>\n"
            ],
            "text/plain": [
              "          short_name  age  height_cm  weight_kg nationality  \\\n",
              "0           L. Messi   32        170         72   Argentina   \n",
              "1  Cristiano Ronaldo   34        187         83    Portugal   \n",
              "2          Neymar Jr   27        175         68      Brazil   \n",
              "3           J. Oblak   26        188         87    Slovenia   \n",
              "4          E. Hazard   28        175         74     Belgium   \n",
              "\n",
              "                  club  value_eur preferred_foot  \n",
              "0         FC Barcelona   95500000           Left  \n",
              "1             Juventus   58500000          Right  \n",
              "2  Paris Saint-Germain  105500000          Right  \n",
              "3      Atlético Madrid   77500000          Right  \n",
              "4          Real Madrid   90000000          Right  "
            ]
          },
          "execution_count": 164,
          "metadata": {},
          "output_type": "execute_result"
        }
      ],
      "source": [
        "#Importante: en SPark es común encontrar la siguiente sintáxis. La cual se usa únicamente para dar mayor claridad el código.\n",
        "df_fifa.limit(10) \\\n",
        "  .toPandas() \\\n",
        "  .head(5)"
      ]
    },
    {
      "cell_type": "code",
      "execution_count": 165,
      "metadata": {
        "application/vnd.databricks.v1+cell": {
          "inputWidgets": {},
          "nuid": "9227899b-7502-4fdb-a0ea-9475c612f5ed",
          "showTitle": false,
          "title": ""
        },
        "colab": {
          "base_uri": "https://localhost:8080/"
        },
        "id": "3LyyZGKAp4d_",
        "outputId": "5ffe3da0-04d4-43f6-b05d-32d6852ed331"
      },
      "outputs": [
        {
          "name": "stdout",
          "output_type": "stream",
          "text": [
            "root\n",
            " |-- short_name: string (nullable = true)\n",
            " |-- age: integer (nullable = true)\n",
            " |-- height_cm: integer (nullable = true)\n",
            " |-- weight_kg: integer (nullable = true)\n",
            " |-- nationality: string (nullable = true)\n",
            " |-- club: string (nullable = true)\n",
            " |-- value_eur: integer (nullable = true)\n",
            " |-- preferred_foot: string (nullable = true)\n",
            "\n"
          ]
        }
      ],
      "source": [
        "#Para poder revisar la organización de nuestro DataFrame y el data type de cada campo podemos usarlo siguiente\n",
        "\n",
        "df_fifa.printSchema()"
      ]
    },
    {
      "cell_type": "markdown",
      "metadata": {
        "application/vnd.databricks.v1+cell": {
          "inputWidgets": {},
          "nuid": "3d78a8d9-aca1-4f8c-9e84-49e67ab6fff4",
          "showTitle": false,
          "title": ""
        },
        "id": "a5PBGXfZp4d_"
      },
      "source": [
        "#### Renombrar columnas"
      ]
    },
    {
      "cell_type": "code",
      "execution_count": 166,
      "metadata": {
        "application/vnd.databricks.v1+cell": {
          "inputWidgets": {},
          "nuid": "ab0ee79c-7568-45e1-8029-ab5e0a570a4d",
          "showTitle": false,
          "title": ""
        },
        "colab": {
          "base_uri": "https://localhost:8080/"
        },
        "id": "1o4AVCX1p4d_",
        "outputId": "a8bf58e7-e4cf-4dba-e611-26e01a216392"
      },
      "outputs": [
        {
          "name": "stdout",
          "output_type": "stream",
          "text": [
            "+-----------------+---+---------+---------+-----------+-------------------+-----------+--------------+\n",
            "|       short_name|age|height_cm|weight_kg|nationality|               club|valor_euros|preferred_foot|\n",
            "+-----------------+---+---------+---------+-----------+-------------------+-----------+--------------+\n",
            "|         L. Messi| 32|      170|       72|  Argentina|       FC Barcelona|   95500000|          Left|\n",
            "|Cristiano Ronaldo| 34|      187|       83|   Portugal|           Juventus|   58500000|         Right|\n",
            "|        Neymar Jr| 27|      175|       68|     Brazil|Paris Saint-Germain|  105500000|         Right|\n",
            "|         J. Oblak| 26|      188|       87|   Slovenia|    Atlético Madrid|   77500000|         Right|\n",
            "|        E. Hazard| 28|      175|       74|    Belgium|        Real Madrid|   90000000|         Right|\n",
            "+-----------------+---+---------+---------+-----------+-------------------+-----------+--------------+\n",
            "only showing top 5 rows\n",
            "\n"
          ]
        }
      ],
      "source": [
        "df_fifa.withColumnRenamed('value_eur','valor_euros').show(5) #esto no afectará al dataframe original"
      ]
    },
    {
      "cell_type": "code",
      "execution_count": 167,
      "metadata": {
        "application/vnd.databricks.v1+cell": {
          "inputWidgets": {},
          "nuid": "6f25b838-63b8-4d95-b835-25251fdce30d",
          "showTitle": false,
          "title": ""
        },
        "colab": {
          "base_uri": "https://localhost:8080/"
        },
        "id": "VUIYI9yRp4d_",
        "outputId": "eee67969-70b4-4168-a1ce-fda6cc7f902e"
      },
      "outputs": [
        {
          "name": "stdout",
          "output_type": "stream",
          "text": [
            "+-----------------+---+---------+---------+-----------+-------------------+-----------+--------------+\n",
            "|       short_name|age|height_cm|weight_kg|nationality|               club|valor_euros|preferred_foot|\n",
            "+-----------------+---+---------+---------+-----------+-------------------+-----------+--------------+\n",
            "|         L. Messi| 32|      170|       72|  Argentina|       FC Barcelona|   95500000|          Left|\n",
            "|Cristiano Ronaldo| 34|      187|       83|   Portugal|           Juventus|   58500000|         Right|\n",
            "|        Neymar Jr| 27|      175|       68|     Brazil|Paris Saint-Germain|  105500000|         Right|\n",
            "|         J. Oblak| 26|      188|       87|   Slovenia|    Atlético Madrid|   77500000|         Right|\n",
            "|        E. Hazard| 28|      175|       74|    Belgium|        Real Madrid|   90000000|         Right|\n",
            "+-----------------+---+---------+---------+-----------+-------------------+-----------+--------------+\n",
            "only showing top 5 rows\n",
            "\n"
          ]
        }
      ],
      "source": [
        "#Para tener resultados permanentes, debemos guardar la salida en otro dataframe.\n",
        "df_ejemplo = df_fifa.withColumnRenamed('value_eur','valor_euros')\n",
        "df_ejemplo.show(5)"
      ]
    },
    {
      "cell_type": "markdown",
      "metadata": {
        "application/vnd.databricks.v1+cell": {
          "inputWidgets": {},
          "nuid": "249b3947-5b1c-4a13-a49d-83686f92effd",
          "showTitle": false,
          "title": ""
        },
        "id": "smOS11a2p4eA"
      },
      "source": [
        "#### Eliminar columnas"
      ]
    },
    {
      "cell_type": "code",
      "execution_count": 168,
      "metadata": {
        "application/vnd.databricks.v1+cell": {
          "inputWidgets": {},
          "nuid": "750fe1a0-8de7-42c1-810d-96f3aa0ce5cb",
          "showTitle": false,
          "title": ""
        },
        "colab": {
          "base_uri": "https://localhost:8080/"
        },
        "id": "E-un1KhJp4eH",
        "outputId": "3d420baa-294e-4691-8844-bb37854b11fd"
      },
      "outputs": [
        {
          "name": "stdout",
          "output_type": "stream",
          "text": [
            "+-----------------+---+---------+-----------+-------------------+---------+--------------+\n",
            "|       short_name|age|height_cm|nationality|               club|value_eur|preferred_foot|\n",
            "+-----------------+---+---------+-----------+-------------------+---------+--------------+\n",
            "|         L. Messi| 32|      170|  Argentina|       FC Barcelona| 95500000|          Left|\n",
            "|Cristiano Ronaldo| 34|      187|   Portugal|           Juventus| 58500000|         Right|\n",
            "|        Neymar Jr| 27|      175|     Brazil|Paris Saint-Germain|105500000|         Right|\n",
            "|         J. Oblak| 26|      188|   Slovenia|    Atlético Madrid| 77500000|         Right|\n",
            "|        E. Hazard| 28|      175|    Belgium|        Real Madrid| 90000000|         Right|\n",
            "+-----------------+---+---------+-----------+-------------------+---------+--------------+\n",
            "only showing top 5 rows\n",
            "\n"
          ]
        }
      ],
      "source": [
        "df_fifa.drop('weight_kg').show(5)"
      ]
    },
    {
      "cell_type": "markdown",
      "metadata": {
        "application/vnd.databricks.v1+cell": {
          "inputWidgets": {},
          "nuid": "0c8331ad-2143-4f53-9f28-1d8a6417f06b",
          "showTitle": false,
          "title": ""
        },
        "id": "QMuY9YG-p4eI"
      },
      "source": [
        "#### Ordenar columnas"
      ]
    },
    {
      "cell_type": "code",
      "execution_count": 169,
      "metadata": {
        "application/vnd.databricks.v1+cell": {
          "inputWidgets": {},
          "nuid": "30267ae1-e1f5-419f-9d2c-f66ecc136a9a",
          "showTitle": false,
          "title": ""
        },
        "colab": {
          "base_uri": "https://localhost:8080/"
        },
        "id": "WkpyMYagp4eI",
        "outputId": "986643c7-ec86-4c37-947a-b4d6b637cb51"
      },
      "outputs": [
        {
          "name": "stdout",
          "output_type": "stream",
          "text": [
            "+------------+---+---------+---------+-----------+-------------------+---------+--------------+\n",
            "|  short_name|age|height_cm|weight_kg|nationality|               club|value_eur|preferred_foot|\n",
            "+------------+---+---------+---------+-----------+-------------------+---------+--------------+\n",
            "|   Neymar Jr| 27|      175|       68|     Brazil|Paris Saint-Germain|105500000|         Right|\n",
            "|    L. Messi| 32|      170|       72|  Argentina|       FC Barcelona| 95500000|          Left|\n",
            "|   K. Mbappé| 20|      178|       73|     France|Paris Saint-Germain| 93500000|         Right|\n",
            "|   E. Hazard| 28|      175|       74|    Belgium|        Real Madrid| 90000000|         Right|\n",
            "|K. De Bruyne| 28|      181|       70|    Belgium|    Manchester City| 90000000|         Right|\n",
            "+------------+---+---------+---------+-----------+-------------------+---------+--------------+\n",
            "only showing top 5 rows\n",
            "\n"
          ]
        }
      ],
      "source": [
        "#Podemos ordenar a los jugadores por su valor en euros\n",
        "df_fifa.orderBy('value_eur', ascending = False).show(5)"
      ]
    },
    {
      "cell_type": "markdown",
      "metadata": {
        "application/vnd.databricks.v1+cell": {
          "inputWidgets": {},
          "nuid": "00c6d1a0-25a4-4112-a566-8d023b7731f0",
          "showTitle": false,
          "title": ""
        },
        "id": "3YPtwZTGp4eI"
      },
      "source": [
        "#### Filtrar datos"
      ]
    },
    {
      "cell_type": "code",
      "execution_count": 170,
      "metadata": {
        "application/vnd.databricks.v1+cell": {
          "inputWidgets": {},
          "nuid": "745d9b5a-105c-4b15-be89-194ef4056a81",
          "showTitle": false,
          "title": ""
        },
        "colab": {
          "base_uri": "https://localhost:8080/"
        },
        "id": "TDPm1wn-p4eI",
        "outputId": "5c43b53d-7c79-46f7-8854-623bcca56ab2"
      },
      "outputs": [
        {
          "name": "stdout",
          "output_type": "stream",
          "text": [
            "+---------------+---+---------+---------+-----------+---------+---------+--------------+\n",
            "|     short_name|age|height_cm|weight_kg|nationality|     club|value_eur|preferred_foot|\n",
            "+---------------+---+---------+---------+-----------+---------+---------+--------------+\n",
            "| Z. Ibrahimović| 37|      195|       95|     Sweden|LA Galaxy| 14000000|         Right|\n",
            "|           Pepe| 36|      188|       81|   Portugal| FC Porto|  6500000|         Right|\n",
            "|      G. Buffon| 41|      192|       92|      Italy| Juventus|  2600000|         Right|\n",
            "|       Casillas| 38|      185|       84|      Spain| FC Porto|  2600000|          Left|\n",
            "|F. Quagliarella| 36|      180|       79|      Italy|Sampdoria|  9500000|         Right|\n",
            "+---------------+---+---------+---------+-----------+---------+---------+--------------+\n",
            "only showing top 5 rows\n",
            "\n"
          ]
        }
      ],
      "source": [
        "#con la funcion where() podemos hacer un filtrado de nuestros datos\n",
        "df_fifa.where(df_fifa.age > 35).show(5)"
      ]
    },
    {
      "cell_type": "code",
      "execution_count": 171,
      "metadata": {
        "application/vnd.databricks.v1+cell": {
          "inputWidgets": {},
          "nuid": "23f01d86-0821-47f1-a21e-f4ca4e8f2faf",
          "showTitle": false,
          "title": ""
        },
        "colab": {
          "base_uri": "https://localhost:8080/"
        },
        "id": "wSaMp7HDp4eJ",
        "outputId": "f53ac21d-c540-46ef-aa0e-340ea44413a5"
      },
      "outputs": [
        {
          "name": "stdout",
          "output_type": "stream",
          "text": [
            "+-----------+---+---------+---------+-----------+---------+---------+--------------+\n",
            "| short_name|age|height_cm|weight_kg|nationality|     club|value_eur|preferred_foot|\n",
            "+-----------+---+---------+---------+-----------+---------+---------+--------------+\n",
            "|  J. Milner| 33|      175|       70|    England|Liverpool| 10500000|         Right|\n",
            "| A. Lallana| 31|      178|       73|    England|Liverpool| 11000000|         Right|\n",
            "|     Adrián| 32|      190|       80|      Spain|Liverpool|  4700000|         Right|\n",
            "|A. Lonergan| 35|      192|       87|    England|Liverpool|   150000|          Left|\n",
            "+-----------+---+---------+---------+-----------+---------+---------+--------------+\n",
            "\n"
          ]
        }
      ],
      "source": [
        "#buscando a los jugadores del Liverpool que tuviera mas de 30 años de edad\n",
        "df_fifa.where((df_ejemplo.age > 30) & (df_ejemplo.club == 'Liverpool')).show(5)"
      ]
    },
    {
      "cell_type": "markdown",
      "metadata": {
        "application/vnd.databricks.v1+cell": {
          "inputWidgets": {},
          "nuid": "cdbd5b59-87e6-4ce5-91c2-ec2fd17d14aa",
          "showTitle": false,
          "title": ""
        },
        "id": "9G2nkAWNp4eJ"
      },
      "source": [
        "#### Funciones de agregación"
      ]
    },
    {
      "cell_type": "markdown",
      "metadata": {
        "application/vnd.databricks.v1+cell": {
          "inputWidgets": {},
          "nuid": "65af59f1-5194-4dfa-b471-76188df5e750",
          "showTitle": false,
          "title": ""
        },
        "id": "wlzFiSD0p4eJ"
      },
      "source": [
        "Supongamos que queremos saber el costo total en euros de un equipo, lograríamos dicho objetivo sumando el valor de los jugadores de cada equipo. Esto lo podemos lograr usando la funcion groupBy() en conjunto con algunas funciones de agregación de la siguiente manera"
      ]
    },
    {
      "cell_type": "code",
      "execution_count": 172,
      "metadata": {
        "application/vnd.databricks.v1+cell": {
          "inputWidgets": {},
          "nuid": "18e7c146-0763-48e7-bf01-38bb5b23a2f4",
          "showTitle": false,
          "title": ""
        },
        "colab": {
          "base_uri": "https://localhost:8080/"
        },
        "id": "X09IUNEYp4eJ",
        "outputId": "36f4aab9-3054-4928-8cc0-4d9380f8f8f9"
      },
      "outputs": [
        {
          "name": "stdout",
          "output_type": "stream",
          "text": [
            "+--------------------+--------------+\n",
            "|                Club|sum(value_eur)|\n",
            "+--------------------+--------------+\n",
            "|       Côte d'Ivoire|             0|\n",
            "|          Göztepe SK|      43065000|\n",
            "|CD Everton de Viñ...|      18075000|\n",
            "|     Shonan Bellmare|       1410000|\n",
            "|        Salford City|       7905000|\n",
            "+--------------------+--------------+\n",
            "only showing top 5 rows\n",
            "\n"
          ]
        }
      ],
      "source": [
        "df_fifa.groupBy('Club').sum('value_eur').show(5)"
      ]
    },
    {
      "cell_type": "code",
      "execution_count": 173,
      "metadata": {
        "application/vnd.databricks.v1+cell": {
          "inputWidgets": {},
          "nuid": "cb56fba7-8540-4204-bd9a-ccf385eadb6f",
          "showTitle": false,
          "title": ""
        },
        "colab": {
          "base_uri": "https://localhost:8080/"
        },
        "id": "hcj1PnCPp4eK",
        "outputId": "ca7623bf-29d1-4aff-d27d-908712eb5456"
      },
      "outputs": [
        {
          "name": "stdout",
          "output_type": "stream",
          "text": [
            "+---------------+--------------+\n",
            "|           club|sum(value_eur)|\n",
            "+---------------+--------------+\n",
            "|    Real Madrid|     897850000|\n",
            "|   FC Barcelona|     869300000|\n",
            "|Manchester City|     845745000|\n",
            "|       Juventus|     735475000|\n",
            "|      Liverpool|     693265000|\n",
            "+---------------+--------------+\n",
            "only showing top 5 rows\n",
            "\n"
          ]
        }
      ],
      "source": [
        "#si quisieramos saber cuales son los 5 equipos mas caros hariamos lo siguiente\n",
        "df_fifa.groupBy('club') \\\n",
        "  .sum('value_eur') \\\n",
        "  .orderBy('sum(value_eur)', ascending = False) \\\n",
        "  .show(5)"
      ]
    },
    {
      "cell_type": "code",
      "execution_count": 174,
      "metadata": {
        "application/vnd.databricks.v1+cell": {
          "inputWidgets": {},
          "nuid": "6089f4cb-3f95-4319-9599-f626e6a50598",
          "showTitle": false,
          "title": ""
        },
        "colab": {
          "base_uri": "https://localhost:8080/"
        },
        "id": "tbjSFG3bp4eK",
        "outputId": "88ca9517-3d45-42b3-87c9-406aebfd562d"
      },
      "outputs": [
        {
          "name": "stdout",
          "output_type": "stream",
          "text": [
            "+---------------+-----------+------------------+\n",
            "|           club|valor_total|     edad_promedio|\n",
            "+---------------+-----------+------------------+\n",
            "|    Real Madrid|  897850000| 24.90909090909091|\n",
            "|   FC Barcelona|  869300000|24.060606060606062|\n",
            "|Manchester City|  845745000|24.333333333333332|\n",
            "|       Juventus|  735475000|              27.0|\n",
            "|      Liverpool|  693265000|24.484848484848484|\n",
            "+---------------+-----------+------------------+\n",
            "only showing top 5 rows\n",
            "\n"
          ]
        }
      ],
      "source": [
        "#Si quisieramos usar más de una función de agregación tendriamos que hacer lo siguiente\n",
        "df_fifa.groupBy('club') \\\n",
        "  .agg(sum('value_eur').alias('valor_total'), \\\n",
        "       mean('age').alias('edad_promedio'))\\\n",
        "  .orderBy('valor_total', ascending = False) \\\n",
        "  .show(5)"
      ]
    },
    {
      "cell_type": "markdown",
      "metadata": {
        "application/vnd.databricks.v1+cell": {
          "inputWidgets": {},
          "nuid": "03df6fb5-090e-41d2-b0bf-e415a46f9280",
          "showTitle": false,
          "title": ""
        },
        "id": "oK1aCztop4eK"
      },
      "source": [
        "#### Crear columnas"
      ]
    },
    {
      "cell_type": "code",
      "execution_count": 175,
      "metadata": {
        "application/vnd.databricks.v1+cell": {
          "inputWidgets": {},
          "nuid": "4f2dec27-eab5-43bf-b2d7-c17082949d8d",
          "showTitle": false,
          "title": ""
        },
        "id": "GbPKEPcUp4eL"
      },
      "outputs": [],
      "source": [
        "#Podemos crear columnas a partir de los valores de otras, por ejemplo, podríamos querer obtener el valor de los jugadores en pesos"
      ]
    },
    {
      "cell_type": "code",
      "execution_count": 176,
      "metadata": {
        "application/vnd.databricks.v1+cell": {
          "inputWidgets": {},
          "nuid": "75e9788f-feb3-463d-9283-8c3615c50f3e",
          "showTitle": false,
          "title": ""
        },
        "id": "YwaOWy7op4eL"
      },
      "outputs": [],
      "source": [
        "df_fifa = df_fifa.withColumn('valor_pesos', df_fifa.value_eur * 20)"
      ]
    },
    {
      "cell_type": "markdown",
      "metadata": {
        "application/vnd.databricks.v1+cell": {
          "inputWidgets": {},
          "nuid": "a6263376-4297-4551-b92c-3fe749e177f8",
          "showTitle": false,
          "title": ""
        },
        "id": "wCPsexTgp4eL"
      },
      "source": [
        "### Consultas en SQL"
      ]
    },
    {
      "cell_type": "markdown",
      "metadata": {
        "application/vnd.databricks.v1+cell": {
          "inputWidgets": {},
          "nuid": "bee28446-c0f4-4e54-a42b-97fdd92f1759",
          "showTitle": false,
          "title": ""
        },
        "id": "jkOcmEp_p4eM"
      },
      "source": [
        "De manera general, podemos observar que existe cierta similaridad entre las funciones de los DataFrames de PySpark con algunas sentencias de SQL. Este paralelismo llega a tal grado que podemos reemplazar la concatenación de varias funciones con una simple consulta SQL."
      ]
    },
    {
      "cell_type": "code",
      "execution_count": 177,
      "metadata": {
        "application/vnd.databricks.v1+cell": {
          "inputWidgets": {},
          "nuid": "9243fce2-c7c1-4de1-9340-4c4785858504",
          "showTitle": false,
          "title": ""
        },
        "colab": {
          "base_uri": "https://localhost:8080/"
        },
        "id": "P83lMYekp4eM",
        "outputId": "98632aea-5f43-4d2a-8ba3-23dd64f1253d"
      },
      "outputs": [
        {
          "name": "stderr",
          "output_type": "stream",
          "text": [
            "/usr/local/lib/python3.11/dist-packages/pyspark/sql/dataframe.py:329: FutureWarning: Deprecated in 2.0, use createOrReplaceTempView instead.\n",
            "  warnings.warn(\"Deprecated in 2.0, use createOrReplaceTempView instead.\", FutureWarning)\n"
          ]
        }
      ],
      "source": [
        "#Por ejemplo, si quisieramos consultar de nuevo cuales son los 5 equipos más caros, solo que esta vez haciendo una consulta SQL, haríamos los siguiente\n",
        "\n",
        "# Le dice a spark que guarde este DataFrame como una tabla SQL\n",
        "df_fifa.registerTempTable('FIFA20')"
      ]
    },
    {
      "cell_type": "code",
      "execution_count": 178,
      "metadata": {
        "application/vnd.databricks.v1+cell": {
          "inputWidgets": {},
          "nuid": "356ec0e5-5eb2-4506-bfaf-8700e43cfcd1",
          "showTitle": false,
          "title": ""
        },
        "colab": {
          "base_uri": "https://localhost:8080/"
        },
        "id": "EQpyZuvip4eM",
        "outputId": "d229690c-9e0a-4a18-cbcc-25d72f981146"
      },
      "outputs": [
        {
          "name": "stdout",
          "output_type": "stream",
          "text": [
            "+---------------+-----------+\n",
            "|           club|valor_total|\n",
            "+---------------+-----------+\n",
            "|    Real Madrid|  897850000|\n",
            "|   FC Barcelona|  869300000|\n",
            "|Manchester City|  845745000|\n",
            "|       Juventus|  735475000|\n",
            "|      Liverpool|  693265000|\n",
            "+---------------+-----------+\n",
            "only showing top 5 rows\n",
            "\n"
          ]
        }
      ],
      "source": [
        "consulta = '''\n",
        "  SELECT club, SUM(value_eur) AS valor_total\n",
        "  FROM FIFA20\n",
        "  GROUP BY club\n",
        "  ORDER BY valor_total DESC\n",
        "  '''\n",
        "spark.sql(consulta).show(5)"
      ]
    },
    {
      "cell_type": "markdown",
      "metadata": {
        "id": "w9RS-9WQufzc"
      },
      "source": [
        "**Ejercicio 1.** Visualizar los 30 jugadores más altos (mostrando su altura en pies ordenado de mayor a menor) y con un peso mayor a 70 kg.\n"
      ]
    },
    {
      "cell_type": "code",
      "execution_count": 179,
      "metadata": {
        "colab": {
          "base_uri": "https://localhost:8080/"
        },
        "id": "9zFqtylJrQnC",
        "outputId": "dabae9be-293f-4b6e-80d4-609e25f36704"
      },
      "outputs": [
        {
          "name": "stdout",
          "output_type": "stream",
          "text": [
            "+-------------------+-----------+\n",
            "|         short_name|height_pies|\n",
            "+-------------------+-----------+\n",
            "|            T. Holý|   6.725722|\n",
            "|           M. Casey|   6.660105|\n",
            "|      C. Pantilimon|   6.660105|\n",
            "|          L. Traoré|   6.660105|\n",
            "|              A. Ba|   6.660105|\n",
            "|         A. Chapman|   6.660105|\n",
            "|           M. Qvist|   6.660105|\n",
            "|          S. Brolin|   6.627297|\n",
            "|V. Milinković-Savić|   6.627297|\n",
            "|           D. Thiam|   6.627297|\n",
            "|        K. Scherpen|   6.627297|\n",
            "|         R. Laidlaw|   6.594488|\n",
            "|         L. Kalinić|   6.594488|\n",
            "|           K. Athiu|   6.594488|\n",
            "|         F. Forster|   6.594488|\n",
            "|          K. Letica|   6.594488|\n",
            "|         P. Onuachu|   6.594488|\n",
            "|         H. Veerman|   6.594488|\n",
            "|         A. Vukotić|   6.594488|\n",
            "|         A. Sjöberg|   6.594488|\n",
            "|        S. Makienok|   6.594488|\n",
            "|        E. Johansen|   6.594488|\n",
            "|         H. Souttar|   6.561680|\n",
            "|            N. Pope|   6.561680|\n",
            "|       J. Karlstrøm|   6.561680|\n",
            "|         A. Koșelev|   6.561680|\n",
            "|       J. Brattberg|   6.561680|\n",
            "|           T. Chorý|   6.561680|\n",
            "|         R. Källman|   6.561680|\n",
            "|       S. Kalajdžić|   6.561680|\n",
            "+-------------------+-----------+\n",
            "only showing top 30 rows\n",
            "\n"
          ]
        }
      ],
      "source": [
        "consulta = '''\n",
        "  SELECT short_name, height_cm / 30.48 as height_pies\n",
        "  FROM FIFA20\n",
        "  WHERE weight_kg > 70\n",
        "  ORDER BY height_cm DESC\n",
        "  '''\n",
        "spark.sql(consulta).show(30)"
      ]
    },
    {
      "cell_type": "markdown",
      "metadata": {
        "id": "HZWLx7qAAlIZ"
      },
      "source": [
        "**Ejercicio 2.** Visualizar los 5 jugadores con valor en pesos más bajo que sean de nacionalidad mexicana, ordenado de menor a mayor."
      ]
    },
    {
      "cell_type": "code",
      "execution_count": 180,
      "metadata": {
        "colab": {
          "base_uri": "https://localhost:8080/"
        },
        "id": "DlzKrizDtGSi",
        "outputId": "16778dbd-21d9-44ac-f958-3faa31604ca1"
      },
      "outputs": [
        {
          "name": "stdout",
          "output_type": "stream",
          "text": [
            "+------------+-----------+\n",
            "|  short_name|valor_pesos|\n",
            "+------------+-----------+\n",
            "|   H. Moreno|          0|\n",
            "|R. Hernández|     600000|\n",
            "|Y. Gutiérrez|     800000|\n",
            "|   J. García|     800000|\n",
            "|J. Rodríguez|     800000|\n",
            "+------------+-----------+\n",
            "\n"
          ]
        }
      ],
      "source": [
        "consulta = '''\n",
        "  SELECT short_name, valor_pesos\n",
        "  FROM FIFA20\n",
        "  WHERE nationality = 'Mexico'\n",
        "  ORDER BY valor_pesos\n",
        "  LIMIT 5\n",
        "  '''\n",
        "spark.sql(consulta).show()\n"
      ]
    },
    {
      "cell_type": "markdown",
      "metadata": {
        "id": "KybLlZIVAnxx"
      },
      "source": [
        "**Ejercicio 3.** Visualizar los 10 jugadores con el peso más bajo de un club de su elección, ordenado de menor a mayor.\n"
      ]
    },
    {
      "cell_type": "code",
      "execution_count": 183,
      "metadata": {
        "colab": {
          "base_uri": "https://localhost:8080/"
        },
        "id": "Y71SpLZlu6LT",
        "outputId": "558acfcd-0cc7-462b-ed45-3879944b204f"
      },
      "outputs": [
        {
          "name": "stdout",
          "output_type": "stream",
          "text": [
            "+----------------+---------+\n",
            "|      short_name|weight_kg|\n",
            "+----------------+---------+\n",
            "|        A. Lewis|       63|\n",
            "|        N. Keïta|       64|\n",
            "|    A. Robertson|       64|\n",
            "|         R. Kent|       65|\n",
            "|Pedro Chirivella|       66|\n",
            "|      P. Glatzel|       67|\n",
            "|        N. Clyne|       67|\n",
            "|         H. Kane|       67|\n",
            "|       K. Hoever|       67|\n",
            "|        C. Jones|       68|\n",
            "+----------------+---------+\n",
            "\n"
          ]
        }
      ],
      "source": [
        "consulta = '''\n",
        "  SELECT short_name, weight_kg\n",
        "  FROM FIFA20\n",
        "  WHERE club = \"Liverpool\"\n",
        "  ORDER BY weight_kg ASC\n",
        "  LIMIT 10\n",
        "  '''\n",
        "spark.sql(consulta).show(10)"
      ]
    },
    {
      "cell_type": "markdown",
      "metadata": {
        "id": "ly_FVuebApBZ"
      },
      "source": [
        "\n",
        "**Ejercicio 4.** Visualizar los 20 jugadores de mayor edad de nacionalidad argentina, ordenados de mayor a menor con respecto a su peso."
      ]
    },
    {
      "cell_type": "code",
      "execution_count": 185,
      "metadata": {
        "colab": {
          "base_uri": "https://localhost:8080/"
        },
        "id": "H3spbGcaFUad",
        "outputId": "eabd85e9-0eee-4561-f1f1-b4faf58ac746"
      },
      "outputs": [
        {
          "name": "stdout",
          "output_type": "stream",
          "text": [
            "+--------------+---+---------+-----------+\n",
            "|    short_name|age|weight_kg|nationality|\n",
            "+--------------+---+---------+-----------+\n",
            "|      C. Muñoz| 42|       73|  Argentina|\n",
            "|  C. Lucchetti| 41|       69|  Argentina|\n",
            "|    M. Caranta| 40|       77|  Argentina|\n",
            "|     F. Cubero| 40|       72|  Argentina|\n",
            "| H. Campagnaro| 39|       85|  Argentina|\n",
            "|    S. Torrico| 39|       84|  Argentina|\n",
            "|C. Campestrini| 39|       82|  Argentina|\n",
            "|       J. Sand| 38|       82|  Argentina|\n",
            "|  M. Rodríguez| 38|       79|  Argentina|\n",
            "|   J. Gandolfi| 38|       78|  Argentina|\n",
            "|      L. Licht| 38|       72|  Argentina|\n",
            "|    E. Bologna| 37|       87|  Argentina|\n",
            "|   L. Pocrnjic| 37|       86|  Argentina|\n",
            "|     N. Ibáñez| 37|       85|  Argentina|\n",
            "|  F. Coloccini| 37|       83|  Argentina|\n",
            "|    L. Giovini| 37|       82|  Argentina|\n",
            "|  W. Caballero| 37|       81|  Argentina|\n",
            "| F. Mancinelli| 37|       80|  Argentina|\n",
            "|        G. Lux| 37|       77|  Argentina|\n",
            "|    I. Damonte| 37|       72|  Argentina|\n",
            "+--------------+---+---------+-----------+\n",
            "only showing top 20 rows\n",
            "\n"
          ]
        }
      ],
      "source": [
        "consulta = '''\n",
        "SELECT short_name, age, weight_kg, nationality\n",
        "FROM FIFA20\n",
        "WHERE nationality = 'Argentina'\n",
        "ORDER BY age DESC, weight_kg DESC\n",
        "'''\n",
        "spark.sql(consulta).show(20)"
      ]
    }
  ],
  "metadata": {
    "application/vnd.databricks.v1+notebook": {
      "dashboards": [],
      "language": "python",
      "notebookMetadata": {
        "pythonIndentUnit": 4
      },
      "notebookName": "Mi primera libreta PySpark",
      "notebookOrigID": 2906518938311856,
      "widgets": {}
    },
    "colab": {
      "provenance": []
    },
    "kernelspec": {
      "display_name": "py-master",
      "language": "python",
      "name": "python3"
    },
    "language_info": {
      "codemirror_mode": {
        "name": "ipython",
        "version": 3
      },
      "file_extension": ".py",
      "mimetype": "text/x-python",
      "name": "python",
      "nbconvert_exporter": "python",
      "pygments_lexer": "ipython3",
      "version": "3.13.1"
    }
  },
  "nbformat": 4,
  "nbformat_minor": 0
}
