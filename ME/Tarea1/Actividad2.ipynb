{
 "cells": [
  {
   "cell_type": "markdown",
   "metadata": {},
   "source": [
    "## 2. Pandemia de COVID-19 en la CDMX desde el año 2020 a 2021."
   ]
  },
  {
   "cell_type": "markdown",
   "metadata": {},
   "source": [
    "### **2.1 Descarga y filtrado de datos**\n",
    " Descarga los datos de la [pandemia a nivel nacional](https://www.gob.mx/salud/documentos/datos-abiertos-bases-historicas-direccion-general-de-epidemiologia), en la sección \"Bases de datos históricas Influenza, COVID-19 y otros virus respiratorios\", descarga Cierre Datos Abiertos Históricos para los años 2020 y 2021. Descomprime ambas bases, cárgalas en R (Python o el lenguaje de tu preferencia, pero ten en cuenta que tendrás que manejar y/o transformar variables a formato tipo fecha) y en los dos casos:\n",
    "\n",
    "- Selecciona únicamente las variables necesarias: `CLASIFICACION_FINAL`, `ENTIDAD_RES`, `FECHA_SINTOMAS`, `TIPO_PACIENTE`, `FECHA_DEF` y `EDAD`.\n",
    "- Filtra los casos positivos a COVID-19 (`CLASIFICACION_FINAL` con valores 1, 2 y 3) para las personas que residen en la CDMX.\n",
    "- Concatena ambas bases de datos para tener una única base de datos con las seis variables de interés para 2020 y 2021."
   ]
  },
  {
   "cell_type": "code",
   "execution_count": null,
   "metadata": {
    "vscode": {
     "languageId": "plaintext"
    }
   },
   "outputs": [],
   "source": []
  },
  {
   "cell_type": "markdown",
   "metadata": {},
   "source": [
    "### **2.2 Casos, hospitalizaciones y fallecimientos**\n",
    "\n",
    "1) A partir de la fecha de inicio de síntomas (variables `FECHA_SINTOMAS`, en formato `as.date()` en R), genera la gráfica del número de casos por mes.\n",
    "2) Suma 15 días a la fecha de inicio de síntomas (para estimar, aproximadamente, el día en el que se dió la hospitalización) y, considerando la variable `TIPO_PACIENTE`, obtén el número de hospitalizaciones por mes.\n",
    "3) Calcula el porcentaje de hospitalizaciones por mes con la siguiente fórmula:\n",
    "\n",
    "$$  \\% \\text{ de hospitalizaciones } \\times \\text{ mes} = 100 \\times \\frac{\\text{hospitalizados (de los infectados)} \\times \\text{mes}}{\\text{infectados de COVID-19} \\times \\text{mes}}$$\n",
    "\n",
    "genera una serie de tiempo con esta información, donde el eje $x$ representa el mes y el eje $y$ el porcentaje de hospitalizados.\n",
    "\n",
    "4) Realiza el mismo análisis para las defunciones. En este caso, utiliza la variable de `FECHA_DEF`, sin necesidad de estimación. Observa que cuando no hubo defunción, la base de datos registra 9999-99-99.\n",
    "5) Observa las tres gráficas obtenidas y describe lo que observas."
   ]
  },
  {
   "cell_type": "code",
   "execution_count": null,
   "metadata": {
    "vscode": {
     "languageId": "plaintext"
    }
   },
   "outputs": [],
   "source": []
  },
  {
   "cell_type": "markdown",
   "metadata": {},
   "source": [
    "### **2.3 Hospitalizaciones y grupos de edad**\n",
    "\n",
    "1) Define los siguientes grupos de edad:\n",
    "\n",
    "$$[0,20), [20,40), [40,60), 60 \\text{ y mayores.}$$\n",
    "\n",
    "2) Obtén el porcentaje de hospitalizaciones por mes para cada grupo de edad y grafica las cuatro series de tiempo.\n",
    "3) Describe lo que observas en la evolución de hospitalizaciones por grupo de edad."
   ]
  },
  {
   "cell_type": "code",
   "execution_count": null,
   "metadata": {
    "vscode": {
     "languageId": "plaintext"
    }
   },
   "outputs": [],
   "source": []
  }
 ],
 "metadata": {
  "language_info": {
   "name": "python"
  }
 },
 "nbformat": 4,
 "nbformat_minor": 2
}
