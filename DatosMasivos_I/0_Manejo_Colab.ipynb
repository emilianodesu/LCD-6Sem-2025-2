{
  "nbformat": 4,
  "nbformat_minor": 0,
  "metadata": {
    "colab": {
      "provenance": [],
      "gpuType": "T4"
    },
    "kernelspec": {
      "name": "python3",
      "display_name": "Python 3"
    },
    "language_info": {
      "name": "python"
    },
    "accelerator": "GPU"
  },
  "cells": [
    {
      "cell_type": "markdown",
      "source": [
        "# Objetivo:\n",
        "\n",
        "Familiarizarse con el entorno de Google Colab aprendiendo a ejecutar celdas, manipular archivos, utilizar aceleradores de hardware y trabajar con Google Drive.\n",
        "\n",
        "# Requisitos previos:\n",
        "\n",
        "- Cuenta de Google\n",
        "- Conocimientos básicos de Python"
      ],
      "metadata": {
        "id": "mDo56LXWMDCV"
      }
    },
    {
      "cell_type": "markdown",
      "source": [
        "# Parte 1: Explorando Google Colab (15 min)\n",
        "\n",
        "Paso 1: Creación de un nuevo notebook\n",
        "* Abre Google Colab.\n",
        "* Haz clic en \"Nuevo cuaderno\" para crear un archivo nuevo.\n"
      ],
      "metadata": {
        "id": "2L_o0cAzMPqE"
      }
    },
    {
      "cell_type": "markdown",
      "source": [
        "Escribe un código en una celda y ejecútalo con Shift + Enter"
      ],
      "metadata": {
        "id": "yMuIwgBkMXc9"
      }
    },
    {
      "cell_type": "code",
      "source": [],
      "metadata": {
        "id": "dk2php8n86UT"
      },
      "execution_count": null,
      "outputs": []
    },
    {
      "cell_type": "code",
      "execution_count": 4,
      "metadata": {
        "id": "VqLiI7rgL0fr",
        "colab": {
          "base_uri": "https://localhost:8080/"
        },
        "outputId": "9a076e0a-978e-4e9a-fbd6-32d38e46c9c2"
      },
      "outputs": [
        {
          "output_type": "stream",
          "name": "stdout",
          "text": [
            "Probando Google Colab =D\n"
          ]
        }
      ],
      "source": [
        "print(\"Probando Google Colab =D\")"
      ]
    },
    {
      "cell_type": "code",
      "source": [],
      "metadata": {
        "id": "pdAwOu9089Rl"
      },
      "execution_count": null,
      "outputs": []
    },
    {
      "cell_type": "markdown",
      "source": [
        "Prueba crear una nueva celda con Ctrl + M B e intenta ejecutar otro código.\n",
        "\n",
        "Experimenta con agregar y eliminar celdas:\n",
        "\n",
        "* Ctrl + M A para insertar una celda arriba.\n",
        "* Ctrl + M B para insertar una celda abajo.\n",
        "* Ctrl + M D para eliminar una celda"
      ],
      "metadata": {
        "id": "uD8QhcEEMfMH"
      }
    },
    {
      "cell_type": "markdown",
      "source": [
        "#Parte 2: Cargando y manipulando archivos (15 min)\n",
        "\n",
        "Paso 3: Subir archivos desde tu computadora\n",
        "\n",
        "Ejecuta el siguiente código en una celda:"
      ],
      "metadata": {
        "id": "MMKgKqwIMox1"
      }
    },
    {
      "cell_type": "code",
      "source": [
        "from google.colab import files\n",
        "uploaded = files.upload()\n"
      ],
      "metadata": {
        "colab": {
          "base_uri": "https://localhost:8080/",
          "height": 73
        },
        "id": "_Zb0ci52Muub",
        "outputId": "7b0ac61d-19f7-4607-e059-8a10b8c5d07b"
      },
      "execution_count": 2,
      "outputs": [
        {
          "output_type": "display_data",
          "data": {
            "text/plain": [
              "<IPython.core.display.HTML object>"
            ],
            "text/html": [
              "\n",
              "     <input type=\"file\" id=\"files-4df2dd48-aad4-4448-bc16-8a90087a40dd\" name=\"files[]\" multiple disabled\n",
              "        style=\"border:none\" />\n",
              "     <output id=\"result-4df2dd48-aad4-4448-bc16-8a90087a40dd\">\n",
              "      Upload widget is only available when the cell has been executed in the\n",
              "      current browser session. Please rerun this cell to enable.\n",
              "      </output>\n",
              "      <script>// Copyright 2017 Google LLC\n",
              "//\n",
              "// Licensed under the Apache License, Version 2.0 (the \"License\");\n",
              "// you may not use this file except in compliance with the License.\n",
              "// You may obtain a copy of the License at\n",
              "//\n",
              "//      http://www.apache.org/licenses/LICENSE-2.0\n",
              "//\n",
              "// Unless required by applicable law or agreed to in writing, software\n",
              "// distributed under the License is distributed on an \"AS IS\" BASIS,\n",
              "// WITHOUT WARRANTIES OR CONDITIONS OF ANY KIND, either express or implied.\n",
              "// See the License for the specific language governing permissions and\n",
              "// limitations under the License.\n",
              "\n",
              "/**\n",
              " * @fileoverview Helpers for google.colab Python module.\n",
              " */\n",
              "(function(scope) {\n",
              "function span(text, styleAttributes = {}) {\n",
              "  const element = document.createElement('span');\n",
              "  element.textContent = text;\n",
              "  for (const key of Object.keys(styleAttributes)) {\n",
              "    element.style[key] = styleAttributes[key];\n",
              "  }\n",
              "  return element;\n",
              "}\n",
              "\n",
              "// Max number of bytes which will be uploaded at a time.\n",
              "const MAX_PAYLOAD_SIZE = 100 * 1024;\n",
              "\n",
              "function _uploadFiles(inputId, outputId) {\n",
              "  const steps = uploadFilesStep(inputId, outputId);\n",
              "  const outputElement = document.getElementById(outputId);\n",
              "  // Cache steps on the outputElement to make it available for the next call\n",
              "  // to uploadFilesContinue from Python.\n",
              "  outputElement.steps = steps;\n",
              "\n",
              "  return _uploadFilesContinue(outputId);\n",
              "}\n",
              "\n",
              "// This is roughly an async generator (not supported in the browser yet),\n",
              "// where there are multiple asynchronous steps and the Python side is going\n",
              "// to poll for completion of each step.\n",
              "// This uses a Promise to block the python side on completion of each step,\n",
              "// then passes the result of the previous step as the input to the next step.\n",
              "function _uploadFilesContinue(outputId) {\n",
              "  const outputElement = document.getElementById(outputId);\n",
              "  const steps = outputElement.steps;\n",
              "\n",
              "  const next = steps.next(outputElement.lastPromiseValue);\n",
              "  return Promise.resolve(next.value.promise).then((value) => {\n",
              "    // Cache the last promise value to make it available to the next\n",
              "    // step of the generator.\n",
              "    outputElement.lastPromiseValue = value;\n",
              "    return next.value.response;\n",
              "  });\n",
              "}\n",
              "\n",
              "/**\n",
              " * Generator function which is called between each async step of the upload\n",
              " * process.\n",
              " * @param {string} inputId Element ID of the input file picker element.\n",
              " * @param {string} outputId Element ID of the output display.\n",
              " * @return {!Iterable<!Object>} Iterable of next steps.\n",
              " */\n",
              "function* uploadFilesStep(inputId, outputId) {\n",
              "  const inputElement = document.getElementById(inputId);\n",
              "  inputElement.disabled = false;\n",
              "\n",
              "  const outputElement = document.getElementById(outputId);\n",
              "  outputElement.innerHTML = '';\n",
              "\n",
              "  const pickedPromise = new Promise((resolve) => {\n",
              "    inputElement.addEventListener('change', (e) => {\n",
              "      resolve(e.target.files);\n",
              "    });\n",
              "  });\n",
              "\n",
              "  const cancel = document.createElement('button');\n",
              "  inputElement.parentElement.appendChild(cancel);\n",
              "  cancel.textContent = 'Cancel upload';\n",
              "  const cancelPromise = new Promise((resolve) => {\n",
              "    cancel.onclick = () => {\n",
              "      resolve(null);\n",
              "    };\n",
              "  });\n",
              "\n",
              "  // Wait for the user to pick the files.\n",
              "  const files = yield {\n",
              "    promise: Promise.race([pickedPromise, cancelPromise]),\n",
              "    response: {\n",
              "      action: 'starting',\n",
              "    }\n",
              "  };\n",
              "\n",
              "  cancel.remove();\n",
              "\n",
              "  // Disable the input element since further picks are not allowed.\n",
              "  inputElement.disabled = true;\n",
              "\n",
              "  if (!files) {\n",
              "    return {\n",
              "      response: {\n",
              "        action: 'complete',\n",
              "      }\n",
              "    };\n",
              "  }\n",
              "\n",
              "  for (const file of files) {\n",
              "    const li = document.createElement('li');\n",
              "    li.append(span(file.name, {fontWeight: 'bold'}));\n",
              "    li.append(span(\n",
              "        `(${file.type || 'n/a'}) - ${file.size} bytes, ` +\n",
              "        `last modified: ${\n",
              "            file.lastModifiedDate ? file.lastModifiedDate.toLocaleDateString() :\n",
              "                                    'n/a'} - `));\n",
              "    const percent = span('0% done');\n",
              "    li.appendChild(percent);\n",
              "\n",
              "    outputElement.appendChild(li);\n",
              "\n",
              "    const fileDataPromise = new Promise((resolve) => {\n",
              "      const reader = new FileReader();\n",
              "      reader.onload = (e) => {\n",
              "        resolve(e.target.result);\n",
              "      };\n",
              "      reader.readAsArrayBuffer(file);\n",
              "    });\n",
              "    // Wait for the data to be ready.\n",
              "    let fileData = yield {\n",
              "      promise: fileDataPromise,\n",
              "      response: {\n",
              "        action: 'continue',\n",
              "      }\n",
              "    };\n",
              "\n",
              "    // Use a chunked sending to avoid message size limits. See b/62115660.\n",
              "    let position = 0;\n",
              "    do {\n",
              "      const length = Math.min(fileData.byteLength - position, MAX_PAYLOAD_SIZE);\n",
              "      const chunk = new Uint8Array(fileData, position, length);\n",
              "      position += length;\n",
              "\n",
              "      const base64 = btoa(String.fromCharCode.apply(null, chunk));\n",
              "      yield {\n",
              "        response: {\n",
              "          action: 'append',\n",
              "          file: file.name,\n",
              "          data: base64,\n",
              "        },\n",
              "      };\n",
              "\n",
              "      let percentDone = fileData.byteLength === 0 ?\n",
              "          100 :\n",
              "          Math.round((position / fileData.byteLength) * 100);\n",
              "      percent.textContent = `${percentDone}% done`;\n",
              "\n",
              "    } while (position < fileData.byteLength);\n",
              "  }\n",
              "\n",
              "  // All done.\n",
              "  yield {\n",
              "    response: {\n",
              "      action: 'complete',\n",
              "    }\n",
              "  };\n",
              "}\n",
              "\n",
              "scope.google = scope.google || {};\n",
              "scope.google.colab = scope.google.colab || {};\n",
              "scope.google.colab._files = {\n",
              "  _uploadFiles,\n",
              "  _uploadFilesContinue,\n",
              "};\n",
              "})(self);\n",
              "</script> "
            ]
          },
          "metadata": {}
        },
        {
          "output_type": "stream",
          "name": "stdout",
          "text": [
            "Saving FdaInFzakAEMwqj.jfif to FdaInFzakAEMwqj.jfif\n"
          ]
        }
      ]
    },
    {
      "cell_type": "markdown",
      "source": [
        "Sube un archivo desde tu computadora y revisa la lista de archivos con:"
      ],
      "metadata": {
        "id": "zRM5uC7aM6DM"
      }
    },
    {
      "cell_type": "code",
      "source": [
        "import os\n",
        "print(os.listdir())\n"
      ],
      "metadata": {
        "colab": {
          "base_uri": "https://localhost:8080/"
        },
        "id": "e1RVgODLM2tC",
        "outputId": "1ff5e52e-f1ed-4839-e9f7-bbe6343cbccf"
      },
      "execution_count": 3,
      "outputs": [
        {
          "output_type": "stream",
          "name": "stdout",
          "text": [
            "['.config', 'FdaInFzakAEMwqj.jfif', 'sample_data']\n"
          ]
        }
      ]
    },
    {
      "cell_type": "markdown",
      "source": [
        "Guarda un archivo de texto:\n"
      ],
      "metadata": {
        "id": "xSJ8OirWNBQO"
      }
    },
    {
      "cell_type": "code",
      "source": [
        "with open(\"archivo_prueba.txt\", \"w\") as f:\n",
        "    f.write(\"Este es un archivo de texto de prueba.\")\n"
      ],
      "metadata": {
        "id": "v9ikzCU8NAPm"
      },
      "execution_count": 4,
      "outputs": []
    },
    {
      "cell_type": "markdown",
      "source": [
        "Descárgalo con:"
      ],
      "metadata": {
        "id": "86sFVRHmNIIi"
      }
    },
    {
      "cell_type": "code",
      "source": [
        "files.download(\"archivo_prueba.txt\")\n"
      ],
      "metadata": {
        "id": "Cnn7tGZTNHit",
        "colab": {
          "base_uri": "https://localhost:8080/",
          "height": 17
        },
        "outputId": "924caba5-0420-4d26-86eb-78dcc93dbfda"
      },
      "execution_count": 6,
      "outputs": [
        {
          "output_type": "display_data",
          "data": {
            "text/plain": [
              "<IPython.core.display.Javascript object>"
            ],
            "application/javascript": [
              "\n",
              "    async function download(id, filename, size) {\n",
              "      if (!google.colab.kernel.accessAllowed) {\n",
              "        return;\n",
              "      }\n",
              "      const div = document.createElement('div');\n",
              "      const label = document.createElement('label');\n",
              "      label.textContent = `Downloading \"${filename}\": `;\n",
              "      div.appendChild(label);\n",
              "      const progress = document.createElement('progress');\n",
              "      progress.max = size;\n",
              "      div.appendChild(progress);\n",
              "      document.body.appendChild(div);\n",
              "\n",
              "      const buffers = [];\n",
              "      let downloaded = 0;\n",
              "\n",
              "      const channel = await google.colab.kernel.comms.open(id);\n",
              "      // Send a message to notify the kernel that we're ready.\n",
              "      channel.send({})\n",
              "\n",
              "      for await (const message of channel.messages) {\n",
              "        // Send a message to notify the kernel that we're ready.\n",
              "        channel.send({})\n",
              "        if (message.buffers) {\n",
              "          for (const buffer of message.buffers) {\n",
              "            buffers.push(buffer);\n",
              "            downloaded += buffer.byteLength;\n",
              "            progress.value = downloaded;\n",
              "          }\n",
              "        }\n",
              "      }\n",
              "      const blob = new Blob(buffers, {type: 'application/binary'});\n",
              "      const a = document.createElement('a');\n",
              "      a.href = window.URL.createObjectURL(blob);\n",
              "      a.download = filename;\n",
              "      div.appendChild(a);\n",
              "      a.click();\n",
              "      div.remove();\n",
              "    }\n",
              "  "
            ]
          },
          "metadata": {}
        },
        {
          "output_type": "display_data",
          "data": {
            "text/plain": [
              "<IPython.core.display.Javascript object>"
            ],
            "application/javascript": [
              "download(\"download_b102de47-d6d5-408f-879d-1d096510bfef\", \"archivo_prueba.txt\", 38)"
            ]
          },
          "metadata": {}
        }
      ]
    },
    {
      "cell_type": "markdown",
      "source": [
        "# Parte 3: Integración con Google Drive (15 min)\n",
        "Paso 5: Montando Google Drive\n",
        "\n",
        "Ejecuta este código para conectar Google Colab con Google Drive:"
      ],
      "metadata": {
        "id": "2vUtGXszNHUg"
      }
    },
    {
      "cell_type": "code",
      "source": [
        "from google.colab import drive\n",
        "drive.mount('/content/drive')\n"
      ],
      "metadata": {
        "id": "lmO0C5jrNSy0",
        "colab": {
          "base_uri": "https://localhost:8080/"
        },
        "outputId": "0c808259-dcf1-4a5d-b89c-e14a9e5181f3"
      },
      "execution_count": 7,
      "outputs": [
        {
          "output_type": "stream",
          "name": "stdout",
          "text": [
            "Mounted at /content/drive\n"
          ]
        }
      ]
    },
    {
      "cell_type": "code",
      "source": [
        "!ls /content/drive/My\\ Drive/"
      ],
      "metadata": {
        "id": "3CskFHLoNTW_",
        "colab": {
          "base_uri": "https://localhost:8080/"
        },
        "outputId": "498c1726-bac6-4acd-9630-17e219b3a316"
      },
      "execution_count": 8,
      "outputs": [
        {
          "output_type": "stream",
          "name": "stdout",
          "text": [
            " 0123.mp4   Classroom  'Colab Notebooks'\n"
          ]
        }
      ]
    },
    {
      "cell_type": "markdown",
      "source": [
        "Guarda un archivo en Drive:"
      ],
      "metadata": {
        "id": "g8e8tj74NXlh"
      }
    },
    {
      "cell_type": "code",
      "source": [
        "with open(\"un_archivo.txt\", \"w\") as f:\n",
        "    f.write(\"Este archivo está guardado en Google Drive.\")"
      ],
      "metadata": {
        "id": "lJV34cZeNXLS"
      },
      "execution_count": 9,
      "outputs": []
    },
    {
      "cell_type": "markdown",
      "source": [
        "# Parte 4: Uso de GPU y recursos del sistema (15 min)\n",
        "Paso 6: Activando GPU o TPU\n",
        "\n",
        "Ve a Entorno de ejecución > Cambiar tipo de entorno de ejecución.\n",
        "Selecciona GPU o TPU y guarda los cambios.\n",
        "\n",
        "Paso 7: Comprobando el hardware disponible\n",
        "\n",
        "Revisa si hay GPU disponible:"
      ],
      "metadata": {
        "id": "vgOjptP8Newb"
      }
    },
    {
      "cell_type": "code",
      "source": [
        "import torch\n",
        "print(\"GPU disponible:\", torch.cuda.is_available())"
      ],
      "metadata": {
        "id": "Jf4mJd1RNkZ-",
        "colab": {
          "base_uri": "https://localhost:8080/"
        },
        "outputId": "5c3ee311-d2e0-4910-8e8c-7cfcdc3e73bf"
      },
      "execution_count": 1,
      "outputs": [
        {
          "output_type": "stream",
          "name": "stdout",
          "text": [
            "GPU disponible: True\n"
          ]
        }
      ]
    },
    {
      "cell_type": "markdown",
      "source": [
        "Muestra la información de la GPU si está disponible:"
      ],
      "metadata": {
        "id": "yciDbgF1Nmcn"
      }
    },
    {
      "cell_type": "code",
      "source": [
        "!nvidia-smi"
      ],
      "metadata": {
        "id": "C7I_cbA5Nm_-",
        "colab": {
          "base_uri": "https://localhost:8080/"
        },
        "outputId": "db8e75a2-b330-4a16-a42e-d9fd2494f51c"
      },
      "execution_count": 2,
      "outputs": [
        {
          "output_type": "stream",
          "name": "stdout",
          "text": [
            "Wed Jan 29 21:36:10 2025       \n",
            "+-----------------------------------------------------------------------------------------+\n",
            "| NVIDIA-SMI 550.54.15              Driver Version: 550.54.15      CUDA Version: 12.4     |\n",
            "|-----------------------------------------+------------------------+----------------------+\n",
            "| GPU  Name                 Persistence-M | Bus-Id          Disp.A | Volatile Uncorr. ECC |\n",
            "| Fan  Temp   Perf          Pwr:Usage/Cap |           Memory-Usage | GPU-Util  Compute M. |\n",
            "|                                         |                        |               MIG M. |\n",
            "|=========================================+========================+======================|\n",
            "|   0  Tesla T4                       Off |   00000000:00:04.0 Off |                    0 |\n",
            "| N/A   54C    P8             10W /   70W |       2MiB /  15360MiB |      0%      Default |\n",
            "|                                         |                        |                  N/A |\n",
            "+-----------------------------------------+------------------------+----------------------+\n",
            "                                                                                         \n",
            "+-----------------------------------------------------------------------------------------+\n",
            "| Processes:                                                                              |\n",
            "|  GPU   GI   CI        PID   Type   Process name                              GPU Memory |\n",
            "|        ID   ID                                                               Usage      |\n",
            "|=========================================================================================|\n",
            "|  No running processes found                                                             |\n",
            "+-----------------------------------------------------------------------------------------+\n"
          ]
        }
      ]
    },
    {
      "cell_type": "markdown",
      "source": [
        "Consulta el uso de RAM y CPU:"
      ],
      "metadata": {
        "id": "m1n-jOuYNsR1"
      }
    },
    {
      "cell_type": "code",
      "source": [
        "import psutil\n",
        "print(f\"Uso de RAM: {psutil.virtual_memory().percent}%\")\n",
        "print(f\"Uso de CPU: {psutil.cpu_percent()}%\")"
      ],
      "metadata": {
        "id": "OwBCgznENqs_",
        "colab": {
          "base_uri": "https://localhost:8080/"
        },
        "outputId": "a706d7ac-aac5-4257-8c51-2b57752403c3"
      },
      "execution_count": 3,
      "outputs": [
        {
          "output_type": "stream",
          "name": "stdout",
          "text": [
            "Uso de RAM: 11.5%\n",
            "Uso de CPU: 21.3%\n"
          ]
        }
      ]
    },
    {
      "cell_type": "markdown",
      "source": [
        "# Instalación de librerías\n",
        "Instala una librería directamente con pip usando !:"
      ],
      "metadata": {
        "id": "qJGjhhn0OwMK"
      }
    },
    {
      "cell_type": "code",
      "source": [
        "!pip install psycopg2"
      ],
      "metadata": {
        "id": "TH48O0oLOwfQ",
        "colab": {
          "base_uri": "https://localhost:8080/"
        },
        "outputId": "833bc89d-df57-4d10-86e6-fe3cb2123ad8"
      },
      "execution_count": 11,
      "outputs": [
        {
          "output_type": "stream",
          "name": "stdout",
          "text": [
            "Requirement already satisfied: psycopg2 in /usr/local/lib/python3.11/dist-packages (2.9.10)\n"
          ]
        }
      ]
    },
    {
      "cell_type": "code",
      "source": [
        "import psycopg2\n",
        "print(\"Versión de psycopg2:\", psycopg2.__version__)"
      ],
      "metadata": {
        "id": "pMq9g_VcO3Yq",
        "colab": {
          "base_uri": "https://localhost:8080/"
        },
        "outputId": "fbf1897c-c197-473d-dde0-c4b01b44d96f"
      },
      "execution_count": 12,
      "outputs": [
        {
          "output_type": "stream",
          "name": "stdout",
          "text": [
            "Versión de psycopg2: 2.9.10 (dt dec pq3 ext lo64)\n"
          ]
        }
      ]
    },
    {
      "cell_type": "markdown",
      "source": [
        "\n",
        "¿Qué ventajas ofrece Google Colab para la ejecución de código en la nube?\n",
        "\n",
        "El uso de GPUs para la ejecucion de libretas, asi como la posibilidad de conectar el ambiente de Google Drive y sus librerias para manejo de archivos.\n",
        "\n",
        "¿Cómo podrías integrar Google Drive para almacenar y compartir archivos de forma eficiente?\n",
        "Para manejar archivos en la nube, asi como aprovechar las librerias que ofrece Google\n",
        "\n",
        "¿Qué diferencias encontraste al usar CPU, GPU y TPU en Google Colab?\n",
        "En este caso no pude notar ninguna diferencia. Pero supongo que al entrenar modelos grandes, puede ser mas rapido usar GPUs o TPUs."
      ],
      "metadata": {
        "id": "m8-UGKZQNugd"
      }
    }
  ]
}